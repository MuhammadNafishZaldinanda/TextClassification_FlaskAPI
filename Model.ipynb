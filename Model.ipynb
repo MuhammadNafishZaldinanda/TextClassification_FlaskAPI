{
  "cells": [
    {
      "cell_type": "markdown",
      "metadata": {
        "id": "xY9XCFu9MIO6"
      },
      "source": [
        "# **Sentiment Analysis Indonesia Google Play**"
      ]
    },
    {
      "cell_type": "markdown",
      "metadata": {
        "id": "QAJgKIuvWo6J"
      },
      "source": [
        "Link Dataset : https://indonlp.github.io/nusa-catalogue/card.html?id_google_play_review"
      ]
    },
    {
      "cell_type": "markdown",
      "metadata": {},
      "source": [
        "## **Import Library**"
      ]
    },
    {
      "cell_type": "code",
      "execution_count": 76,
      "metadata": {},
      "outputs": [],
      "source": [
        "import pandas as pd\n",
        "import numpy as np\n",
        "import matplotlib.pyplot as plt\n",
        "import re\n",
        "import nltk\n",
        "import langid\n",
        "import joblib\n",
        "import seaborn as sns\n",
        "from nltk.tokenize import word_tokenize\n",
        "from nltk.corpus import stopwords\n",
        "from nltk.stem import PorterStemmer\n",
        "from collections import Counter\n",
        "from Sastrawi.Stemmer.StemmerFactory import StemmerFactory\n",
        "from wordcloud import WordCloud\n",
        "from imblearn.over_sampling import SMOTE"
      ]
    },
    {
      "cell_type": "markdown",
      "metadata": {
        "id": "VWe6w57zWW5Z"
      },
      "source": [
        "## **Data Wrangling**"
      ]
    },
    {
      "cell_type": "markdown",
      "metadata": {
        "id": "x29WukJhXNxi"
      },
      "source": [
        "### Gathering Data"
      ]
    },
    {
      "cell_type": "code",
      "execution_count": 2,
      "metadata": {
        "colab": {
          "base_uri": "https://localhost:8080/"
        },
        "id": "v3msOvS-WHbR",
        "outputId": "90688795-0ffb-4c90-e7a9-36739c3d3300"
      },
      "outputs": [],
      "source": [
        "#Load Data\n",
        "from datasets import load_dataset\n",
        "dataset = load_dataset(\"jakartaresearch/google-play-review\")"
      ]
    },
    {
      "cell_type": "code",
      "execution_count": 3,
      "metadata": {
        "colab": {
          "base_uri": "https://localhost:8080/"
        },
        "id": "AQ6DXeUTW1e5",
        "outputId": "90370ec7-d313-4b45-d916-449131c5ce7e"
      },
      "outputs": [
        {
          "data": {
            "text/plain": [
              "dict_keys(['train', 'validation'])"
            ]
          },
          "execution_count": 3,
          "metadata": {},
          "output_type": "execute_result"
        }
      ],
      "source": [
        "dataset.keys()"
      ]
    },
    {
      "cell_type": "markdown",
      "metadata": {},
      "source": [
        "Data yang berasal dari penyedia data telah dibagi menjadi dua bagian, yaitu data pelatihan dan data validasi."
      ]
    },
    {
      "cell_type": "code",
      "execution_count": 4,
      "metadata": {
        "id": "8CLYToHuXuSk"
      },
      "outputs": [],
      "source": [
        "train_data = dataset['train'].to_pandas()\n",
        "valid_data = dataset['validation'].to_pandas()"
      ]
    },
    {
      "cell_type": "markdown",
      "metadata": {},
      "source": [
        "Dengan memanfaatkan library pandas, data akan diolah dalam format dataframe"
      ]
    },
    {
      "cell_type": "markdown",
      "metadata": {
        "id": "l3D3UkwBXl3D"
      },
      "source": [
        "### Assessing Data"
      ]
    },
    {
      "cell_type": "markdown",
      "metadata": {
        "id": "ez9JmzOBYCk5"
      },
      "source": [
        "#### Data Training"
      ]
    },
    {
      "cell_type": "code",
      "execution_count": 5,
      "metadata": {
        "colab": {
          "base_uri": "https://localhost:8080/"
        },
        "id": "UFTj2jN0YBdr",
        "outputId": "91206813-3aad-4e9f-d2e7-661d86d06942"
      },
      "outputs": [
        {
          "data": {
            "text/html": [
              "<div>\n",
              "<style scoped>\n",
              "    .dataframe tbody tr th:only-of-type {\n",
              "        vertical-align: middle;\n",
              "    }\n",
              "\n",
              "    .dataframe tbody tr th {\n",
              "        vertical-align: top;\n",
              "    }\n",
              "\n",
              "    .dataframe thead th {\n",
              "        text-align: right;\n",
              "    }\n",
              "</style>\n",
              "<table border=\"1\" class=\"dataframe\">\n",
              "  <thead>\n",
              "    <tr style=\"text-align: right;\">\n",
              "      <th></th>\n",
              "      <th>text</th>\n",
              "      <th>label</th>\n",
              "      <th>stars</th>\n",
              "    </tr>\n",
              "  </thead>\n",
              "  <tbody>\n",
              "    <tr>\n",
              "      <th>0</th>\n",
              "      <td>Halo\\n blibli. Sedikit saran untuk gratis ong...</td>\n",
              "      <td>pos</td>\n",
              "      <td>4</td>\n",
              "    </tr>\n",
              "    <tr>\n",
              "      <th>1</th>\n",
              "      <td>So far so good. Respon cepat.</td>\n",
              "      <td>pos</td>\n",
              "      <td>5</td>\n",
              "    </tr>\n",
              "    <tr>\n",
              "      <th>2</th>\n",
              "      <td>thank</td>\n",
              "      <td>neg</td>\n",
              "      <td>3</td>\n",
              "    </tr>\n",
              "    <tr>\n",
              "      <th>3</th>\n",
              "      <td>Aplikasi sering not responding di hp saya (as...</td>\n",
              "      <td>neg</td>\n",
              "      <td>2</td>\n",
              "    </tr>\n",
              "    <tr>\n",
              "      <th>4</th>\n",
              "      <td>Gak ada komentar.</td>\n",
              "      <td>pos</td>\n",
              "      <td>5</td>\n",
              "    </tr>\n",
              "    <tr>\n",
              "      <th>5</th>\n",
              "      <td>Sangat bagussss</td>\n",
              "      <td>pos</td>\n",
              "      <td>5</td>\n",
              "    </tr>\n",
              "    <tr>\n",
              "      <th>6</th>\n",
              "      <td>Thanks for your help and support</td>\n",
              "      <td>pos</td>\n",
              "      <td>4</td>\n",
              "    </tr>\n",
              "    <tr>\n",
              "      <th>7</th>\n",
              "      <td>The appplication is easy to use</td>\n",
              "      <td>pos</td>\n",
              "      <td>5</td>\n",
              "    </tr>\n",
              "    <tr>\n",
              "      <th>8</th>\n",
              "      <td>Gud</td>\n",
              "      <td>pos</td>\n",
              "      <td>5</td>\n",
              "    </tr>\n",
              "    <tr>\n",
              "      <th>9</th>\n",
              "      <td>Gooooooood</td>\n",
              "      <td>pos</td>\n",
              "      <td>5</td>\n",
              "    </tr>\n",
              "  </tbody>\n",
              "</table>\n",
              "</div>"
            ],
            "text/plain": [
              "                                                text label  stars\n",
              "0   Halo\\n blibli. Sedikit saran untuk gratis ong...   pos      4\n",
              "1                      So far so good. Respon cepat.   pos      5\n",
              "2                                              thank   neg      3\n",
              "3   Aplikasi sering not responding di hp saya (as...   neg      2\n",
              "4                                  Gak ada komentar.   pos      5\n",
              "5                                    Sangat bagussss   pos      5\n",
              "6                   Thanks for your help and support   pos      4\n",
              "7                    The appplication is easy to use   pos      5\n",
              "8                                                Gud   pos      5\n",
              "9                                         Gooooooood   pos      5"
            ]
          },
          "execution_count": 5,
          "metadata": {},
          "output_type": "execute_result"
        }
      ],
      "source": [
        "train_data.head(10)"
      ]
    },
    {
      "cell_type": "code",
      "execution_count": 6,
      "metadata": {
        "colab": {
          "base_uri": "https://localhost:8080/"
        },
        "id": "rAvnJ1ggXsja",
        "outputId": "bb1914d6-ba00-408a-dd3b-b726232ff98a"
      },
      "outputs": [
        {
          "name": "stdout",
          "output_type": "stream",
          "text": [
            "<class 'pandas.core.frame.DataFrame'>\n",
            "RangeIndex: 7028 entries, 0 to 7027\n",
            "Data columns (total 3 columns):\n",
            " #   Column  Non-Null Count  Dtype \n",
            "---  ------  --------------  ----- \n",
            " 0   text    7028 non-null   object\n",
            " 1   label   7028 non-null   object\n",
            " 2   stars   7028 non-null   int8  \n",
            "dtypes: int8(1), object(2)\n",
            "memory usage: 116.8+ KB\n"
          ]
        }
      ],
      "source": [
        "train_data.info()"
      ]
    },
    {
      "cell_type": "code",
      "execution_count": 7,
      "metadata": {
        "colab": {
          "base_uri": "https://localhost:8080/"
        },
        "id": "UZb5taBCY1C-",
        "outputId": "b5bed644-fa69-4296-9b1c-2018386eb58a"
      },
      "outputs": [
        {
          "data": {
            "text/html": [
              "<div>\n",
              "<style scoped>\n",
              "    .dataframe tbody tr th:only-of-type {\n",
              "        vertical-align: middle;\n",
              "    }\n",
              "\n",
              "    .dataframe tbody tr th {\n",
              "        vertical-align: top;\n",
              "    }\n",
              "\n",
              "    .dataframe thead th {\n",
              "        text-align: right;\n",
              "    }\n",
              "</style>\n",
              "<table border=\"1\" class=\"dataframe\">\n",
              "  <thead>\n",
              "    <tr style=\"text-align: right;\">\n",
              "      <th></th>\n",
              "      <th>text</th>\n",
              "      <th>label</th>\n",
              "      <th>stars</th>\n",
              "    </tr>\n",
              "  </thead>\n",
              "  <tbody>\n",
              "    <tr>\n",
              "      <th>count</th>\n",
              "      <td>7028</td>\n",
              "      <td>7028</td>\n",
              "      <td>7028.000000</td>\n",
              "    </tr>\n",
              "    <tr>\n",
              "      <th>unique</th>\n",
              "      <td>5363</td>\n",
              "      <td>2</td>\n",
              "      <td>NaN</td>\n",
              "    </tr>\n",
              "    <tr>\n",
              "      <th>top</th>\n",
              "      <td>Good</td>\n",
              "      <td>pos</td>\n",
              "      <td>NaN</td>\n",
              "    </tr>\n",
              "    <tr>\n",
              "      <th>freq</th>\n",
              "      <td>305</td>\n",
              "      <td>5887</td>\n",
              "      <td>NaN</td>\n",
              "    </tr>\n",
              "    <tr>\n",
              "      <th>mean</th>\n",
              "      <td>NaN</td>\n",
              "      <td>NaN</td>\n",
              "      <td>4.355578</td>\n",
              "    </tr>\n",
              "    <tr>\n",
              "      <th>std</th>\n",
              "      <td>NaN</td>\n",
              "      <td>NaN</td>\n",
              "      <td>1.265991</td>\n",
              "    </tr>\n",
              "    <tr>\n",
              "      <th>min</th>\n",
              "      <td>NaN</td>\n",
              "      <td>NaN</td>\n",
              "      <td>1.000000</td>\n",
              "    </tr>\n",
              "    <tr>\n",
              "      <th>25%</th>\n",
              "      <td>NaN</td>\n",
              "      <td>NaN</td>\n",
              "      <td>4.000000</td>\n",
              "    </tr>\n",
              "    <tr>\n",
              "      <th>50%</th>\n",
              "      <td>NaN</td>\n",
              "      <td>NaN</td>\n",
              "      <td>5.000000</td>\n",
              "    </tr>\n",
              "    <tr>\n",
              "      <th>75%</th>\n",
              "      <td>NaN</td>\n",
              "      <td>NaN</td>\n",
              "      <td>5.000000</td>\n",
              "    </tr>\n",
              "    <tr>\n",
              "      <th>max</th>\n",
              "      <td>NaN</td>\n",
              "      <td>NaN</td>\n",
              "      <td>5.000000</td>\n",
              "    </tr>\n",
              "  </tbody>\n",
              "</table>\n",
              "</div>"
            ],
            "text/plain": [
              "         text label        stars\n",
              "count    7028  7028  7028.000000\n",
              "unique   5363     2          NaN\n",
              "top      Good   pos          NaN\n",
              "freq      305  5887          NaN\n",
              "mean      NaN   NaN     4.355578\n",
              "std       NaN   NaN     1.265991\n",
              "min       NaN   NaN     1.000000\n",
              "25%       NaN   NaN     4.000000\n",
              "50%       NaN   NaN     5.000000\n",
              "75%       NaN   NaN     5.000000\n",
              "max       NaN   NaN     5.000000"
            ]
          },
          "execution_count": 7,
          "metadata": {},
          "output_type": "execute_result"
        }
      ],
      "source": [
        "train_data.describe(include='all')"
      ]
    },
    {
      "cell_type": "markdown",
      "metadata": {
        "id": "g4YvFEP8UDnx"
      },
      "source": [
        "Berdasarkan rangkuman diatas, terdapat Dua Kelas (Label) Sentiment yaitu Positif (pos) dan Negatif (neg). Dimana Kelas (Label) terbanyak pada Sentimen Positif (pos)"
      ]
    },
    {
      "cell_type": "code",
      "execution_count": 8,
      "metadata": {
        "colab": {
          "base_uri": "https://localhost:8080/"
        },
        "id": "bm0hhgiCacBs",
        "outputId": "5114d8be-2fe6-4d05-9bed-7a5777103737"
      },
      "outputs": [
        {
          "data": {
            "text/plain": [
              "text     0\n",
              "label    0\n",
              "stars    0\n",
              "dtype: int64"
            ]
          },
          "execution_count": 8,
          "metadata": {},
          "output_type": "execute_result"
        }
      ],
      "source": [
        "#Identifikasi Missing Value\n",
        "train_data.isna().sum()"
      ]
    },
    {
      "cell_type": "markdown",
      "metadata": {},
      "source": [
        "Pada data training tidak terdapat missing value"
      ]
    },
    {
      "cell_type": "code",
      "execution_count": 9,
      "metadata": {
        "colab": {
          "base_uri": "https://localhost:8080/"
        },
        "id": "oLE1Csenad7L",
        "outputId": "7ac77405-18d3-4a89-d90c-3fe840478399"
      },
      "outputs": [
        {
          "data": {
            "text/plain": [
              "1566"
            ]
          },
          "execution_count": 9,
          "metadata": {},
          "output_type": "execute_result"
        }
      ],
      "source": [
        "#Identifikasi Data Duplikasi\n",
        "train_data.duplicated().sum()"
      ]
    },
    {
      "cell_type": "markdown",
      "metadata": {
        "id": "VmvBgnLMVVHV"
      },
      "source": [
        "Terdapat data duplikasi sebanyak 1566 data, oleh karena itu perlu dilakukan penanganan"
      ]
    },
    {
      "cell_type": "code",
      "execution_count": 10,
      "metadata": {
        "id": "DxiYiRtIdJfW"
      },
      "outputs": [],
      "source": [
        "#Menghapus Data Duplikasi dan Mempertahankan Data Pertamanya\n",
        "train_data = train_data.drop_duplicates(subset=['text', 'label', 'stars'], keep='first')"
      ]
    },
    {
      "cell_type": "code",
      "execution_count": 11,
      "metadata": {
        "colab": {
          "base_uri": "https://localhost:8080/"
        },
        "id": "ijqUmBwOtJSa",
        "outputId": "c4050b15-a443-42f3-a181-b4157bfd55ba"
      },
      "outputs": [
        {
          "data": {
            "text/plain": [
              "0"
            ]
          },
          "execution_count": 11,
          "metadata": {},
          "output_type": "execute_result"
        }
      ],
      "source": [
        "#Identifikasi Data Duplikasi Setelah dilakukan Penanganan\n",
        "train_data.duplicated().sum()"
      ]
    },
    {
      "cell_type": "code",
      "execution_count": 12,
      "metadata": {
        "colab": {
          "base_uri": "https://localhost:8080/"
        },
        "id": "_85aqRzYdX8y",
        "outputId": "fc67c6cc-4bc7-4b18-f432-2530a150450a"
      },
      "outputs": [
        {
          "data": {
            "text/html": [
              "<div>\n",
              "<style scoped>\n",
              "    .dataframe tbody tr th:only-of-type {\n",
              "        vertical-align: middle;\n",
              "    }\n",
              "\n",
              "    .dataframe tbody tr th {\n",
              "        vertical-align: top;\n",
              "    }\n",
              "\n",
              "    .dataframe thead th {\n",
              "        text-align: right;\n",
              "    }\n",
              "</style>\n",
              "<table border=\"1\" class=\"dataframe\">\n",
              "  <thead>\n",
              "    <tr style=\"text-align: right;\">\n",
              "      <th></th>\n",
              "      <th>text</th>\n",
              "      <th>label</th>\n",
              "      <th>stars</th>\n",
              "    </tr>\n",
              "  </thead>\n",
              "  <tbody>\n",
              "    <tr>\n",
              "      <th>0</th>\n",
              "      <td>Halo\\n blibli. Sedikit saran untuk gratis ong...</td>\n",
              "      <td>pos</td>\n",
              "      <td>4</td>\n",
              "    </tr>\n",
              "    <tr>\n",
              "      <th>1</th>\n",
              "      <td>So far so good. Respon cepat.</td>\n",
              "      <td>pos</td>\n",
              "      <td>5</td>\n",
              "    </tr>\n",
              "    <tr>\n",
              "      <th>2</th>\n",
              "      <td>thank</td>\n",
              "      <td>neg</td>\n",
              "      <td>3</td>\n",
              "    </tr>\n",
              "    <tr>\n",
              "      <th>3</th>\n",
              "      <td>Aplikasi sering not responding di hp saya (as...</td>\n",
              "      <td>neg</td>\n",
              "      <td>2</td>\n",
              "    </tr>\n",
              "    <tr>\n",
              "      <th>4</th>\n",
              "      <td>Gak ada komentar.</td>\n",
              "      <td>pos</td>\n",
              "      <td>5</td>\n",
              "    </tr>\n",
              "    <tr>\n",
              "      <th>...</th>\n",
              "      <td>...</td>\n",
              "      <td>...</td>\n",
              "      <td>...</td>\n",
              "    </tr>\n",
              "    <tr>\n",
              "      <th>5457</th>\n",
              "      <td>Very useful</td>\n",
              "      <td>pos</td>\n",
              "      <td>5</td>\n",
              "    </tr>\n",
              "    <tr>\n",
              "      <th>5458</th>\n",
              "      <td>Sip Kejelasan pembayaran. Kejelasan Stok barang,</td>\n",
              "      <td>pos</td>\n",
              "      <td>4</td>\n",
              "    </tr>\n",
              "    <tr>\n",
              "      <th>5459</th>\n",
              "      <td>Senang belanja disini</td>\n",
              "      <td>pos</td>\n",
              "      <td>5</td>\n",
              "    </tr>\n",
              "    <tr>\n",
              "      <th>5460</th>\n",
              "      <td>good application. very helpfull and best price</td>\n",
              "      <td>pos</td>\n",
              "      <td>5</td>\n",
              "    </tr>\n",
              "    <tr>\n",
              "      <th>5461</th>\n",
              "      <td>tidak bisa simpan alamat pengiriman, hasil ke...</td>\n",
              "      <td>neg</td>\n",
              "      <td>1</td>\n",
              "    </tr>\n",
              "  </tbody>\n",
              "</table>\n",
              "<p>5462 rows × 3 columns</p>\n",
              "</div>"
            ],
            "text/plain": [
              "                                                   text label  stars\n",
              "0      Halo\\n blibli. Sedikit saran untuk gratis ong...   pos      4\n",
              "1                         So far so good. Respon cepat.   pos      5\n",
              "2                                                 thank   neg      3\n",
              "3      Aplikasi sering not responding di hp saya (as...   neg      2\n",
              "4                                     Gak ada komentar.   pos      5\n",
              "...                                                 ...   ...    ...\n",
              "5457                                        Very useful   pos      5\n",
              "5458   Sip Kejelasan pembayaran. Kejelasan Stok barang,   pos      4\n",
              "5459                              Senang belanja disini   pos      5\n",
              "5460     good application. very helpfull and best price   pos      5\n",
              "5461   tidak bisa simpan alamat pengiriman, hasil ke...   neg      1\n",
              "\n",
              "[5462 rows x 3 columns]"
            ]
          },
          "execution_count": 12,
          "metadata": {},
          "output_type": "execute_result"
        }
      ],
      "source": [
        "train_data = train_data.reset_index(drop=True)\n",
        "train_data"
      ]
    },
    {
      "cell_type": "code",
      "execution_count": 13,
      "metadata": {
        "colab": {
          "base_uri": "https://localhost:8080/"
        },
        "id": "zmsLheS2U-Nl",
        "outputId": "84add8c9-5e14-4596-fdf5-5513348a39a5"
      },
      "outputs": [
        {
          "data": {
            "text/html": [
              "<div>\n",
              "<style scoped>\n",
              "    .dataframe tbody tr th:only-of-type {\n",
              "        vertical-align: middle;\n",
              "    }\n",
              "\n",
              "    .dataframe tbody tr th {\n",
              "        vertical-align: top;\n",
              "    }\n",
              "\n",
              "    .dataframe thead th {\n",
              "        text-align: right;\n",
              "    }\n",
              "</style>\n",
              "<table border=\"1\" class=\"dataframe\">\n",
              "  <thead>\n",
              "    <tr style=\"text-align: right;\">\n",
              "      <th></th>\n",
              "      <th>text</th>\n",
              "      <th>label</th>\n",
              "      <th>stars</th>\n",
              "    </tr>\n",
              "  </thead>\n",
              "  <tbody>\n",
              "    <tr>\n",
              "      <th>count</th>\n",
              "      <td>5462</td>\n",
              "      <td>5462</td>\n",
              "      <td>5462.000000</td>\n",
              "    </tr>\n",
              "    <tr>\n",
              "      <th>unique</th>\n",
              "      <td>5363</td>\n",
              "      <td>2</td>\n",
              "      <td>NaN</td>\n",
              "    </tr>\n",
              "    <tr>\n",
              "      <th>top</th>\n",
              "      <td>Good</td>\n",
              "      <td>pos</td>\n",
              "      <td>NaN</td>\n",
              "    </tr>\n",
              "    <tr>\n",
              "      <th>freq</th>\n",
              "      <td>5</td>\n",
              "      <td>4341</td>\n",
              "      <td>NaN</td>\n",
              "    </tr>\n",
              "    <tr>\n",
              "      <th>mean</th>\n",
              "      <td>NaN</td>\n",
              "      <td>NaN</td>\n",
              "      <td>4.202490</td>\n",
              "    </tr>\n",
              "    <tr>\n",
              "      <th>std</th>\n",
              "      <td>NaN</td>\n",
              "      <td>NaN</td>\n",
              "      <td>1.384247</td>\n",
              "    </tr>\n",
              "    <tr>\n",
              "      <th>min</th>\n",
              "      <td>NaN</td>\n",
              "      <td>NaN</td>\n",
              "      <td>1.000000</td>\n",
              "    </tr>\n",
              "    <tr>\n",
              "      <th>25%</th>\n",
              "      <td>NaN</td>\n",
              "      <td>NaN</td>\n",
              "      <td>4.000000</td>\n",
              "    </tr>\n",
              "    <tr>\n",
              "      <th>50%</th>\n",
              "      <td>NaN</td>\n",
              "      <td>NaN</td>\n",
              "      <td>5.000000</td>\n",
              "    </tr>\n",
              "    <tr>\n",
              "      <th>75%</th>\n",
              "      <td>NaN</td>\n",
              "      <td>NaN</td>\n",
              "      <td>5.000000</td>\n",
              "    </tr>\n",
              "    <tr>\n",
              "      <th>max</th>\n",
              "      <td>NaN</td>\n",
              "      <td>NaN</td>\n",
              "      <td>5.000000</td>\n",
              "    </tr>\n",
              "  </tbody>\n",
              "</table>\n",
              "</div>"
            ],
            "text/plain": [
              "         text label        stars\n",
              "count    5462  5462  5462.000000\n",
              "unique   5363     2          NaN\n",
              "top      Good   pos          NaN\n",
              "freq        5  4341          NaN\n",
              "mean      NaN   NaN     4.202490\n",
              "std       NaN   NaN     1.384247\n",
              "min       NaN   NaN     1.000000\n",
              "25%       NaN   NaN     4.000000\n",
              "50%       NaN   NaN     5.000000\n",
              "75%       NaN   NaN     5.000000\n",
              "max       NaN   NaN     5.000000"
            ]
          },
          "execution_count": 13,
          "metadata": {},
          "output_type": "execute_result"
        }
      ],
      "source": [
        "train_data.describe(include='all')"
      ]
    },
    {
      "cell_type": "code",
      "execution_count": 14,
      "metadata": {
        "colab": {
          "base_uri": "https://localhost:8080/"
        },
        "id": "gyDGnMTPYM9z",
        "outputId": "34f84b5c-530c-4151-980a-1952f6c3a875"
      },
      "outputs": [
        {
          "name": "stdout",
          "output_type": "stream",
          "text": [
            "Jumlah Data Sentimen pos : 4341\n",
            "Jumlah Data Sentimen neg : 1121\n"
          ]
        },
        {
          "data": {
            "image/png": "[encoded data removed]",
            "text/plain": [
              "<Figure size 432x288 with 1 Axes>"
            ]
          },
          "metadata": {},
          "output_type": "display_data"
        }
      ],
      "source": [
        "import matplotlib.pyplot as plt\n",
        "columns_failure_type = train_data['label'].unique().tolist()\n",
        "plt.rcParams[\"figure.figsize\"] = (15,8)\n",
        "plt.pie(train_data['label'].value_counts(), autopct='%1.1f%%',\n",
        "        wedgeprops={'edgecolor': 'black'}, counterclock=False, startangle=25,\n",
        "        radius=1.3, labels=columns_failure_type, textprops={'fontsize': 15, 'weight': 'bold'})\n",
        "plt.legend(columns_failure_type, loc='upper left', fontsize=12)\n",
        "plt.tight_layout()\n",
        "\n",
        "for label, count in train_data['label'].value_counts().iteritems():\n",
        "    print(\"Jumlah Data Sentimen\", label, \":\", count)"
      ]
    },
    {
      "cell_type": "markdown",
      "metadata": {
        "id": "Et5ENd5FViyD"
      },
      "source": [
        "Berdasarkan persentase dari hasil visualisasi diatas, didapatkan bahwa kelas data memiliki kondisi yang tidak seimbang (Imbalance Data) dimana kelas Positif (pos) terdapat 4341 data (79.5%) sedangkan untuk kelas Negatif 1121 (20.5%). Oleh karena itu perlu dilakukan penanganan"
      ]
    },
    {
      "cell_type": "code",
      "execution_count": 15,
      "metadata": {
        "colab": {
          "base_uri": "https://localhost:8080/"
        },
        "id": "i01uX6aoYpYS",
        "outputId": "fec3a714-7372-49f3-8f33-f1af9c73dbe2"
      },
      "outputs": [
        {
          "data": {
            "image/png": "[encoded data removed]",
            "text/plain": [
              "<Figure size 720x432 with 1 Axes>"
            ]
          },
          "metadata": {
            "needs_background": "light"
          },
          "output_type": "display_data"
        }
      ],
      "source": [
        "rating_train = train_data.stars.value_counts()\n",
        "plt.figure(figsize=(10, 6))\n",
        "colors = [\"b\", \"#72BCD4\", \"#72BCD4\", \"#72BCD4\", \"#72BCD4\"]\n",
        "plt.bar(rating_train.index, rating_train.values, color = colors )\n",
        "plt.title('Persebaran Rating')\n",
        "plt.xlabel('Rating Ulasan')\n",
        "plt.ylabel('Jumlah Ulasan')\n",
        "plt.show()"
      ]
    },
    {
      "cell_type": "markdown",
      "metadata": {
        "id": "T2LvoSeWWQXp"
      },
      "source": [
        "Selaras dengan hasil visualisasi jumlah persebaran kelas sentimen, didapatkan dari visualisasi diagram batang diatas yaitu jumlah persebaran rating didominasi oleh rating yang tinggi yaitu rating 4 dan 5 sehingga bisa dikatakan sentimen didominasi oleh sentimen Positif (pos)"
      ]
    },
    {
      "cell_type": "markdown",
      "metadata": {
        "id": "GfDlPYvZfbfq"
      },
      "source": [
        "#### Data Validation"
      ]
    },
    {
      "cell_type": "code",
      "execution_count": 16,
      "metadata": {
        "colab": {
          "base_uri": "https://localhost:8080/"
        },
        "id": "IDPpOp9cfmhN",
        "outputId": "56e96304-288c-4780-bae0-d8e6da669bba"
      },
      "outputs": [
        {
          "data": {
            "text/html": [
              "<div>\n",
              "<style scoped>\n",
              "    .dataframe tbody tr th:only-of-type {\n",
              "        vertical-align: middle;\n",
              "    }\n",
              "\n",
              "    .dataframe tbody tr th {\n",
              "        vertical-align: top;\n",
              "    }\n",
              "\n",
              "    .dataframe thead th {\n",
              "        text-align: right;\n",
              "    }\n",
              "</style>\n",
              "<table border=\"1\" class=\"dataframe\">\n",
              "  <thead>\n",
              "    <tr style=\"text-align: right;\">\n",
              "      <th></th>\n",
              "      <th>text</th>\n",
              "      <th>label</th>\n",
              "      <th>stars</th>\n",
              "    </tr>\n",
              "  </thead>\n",
              "  <tbody>\n",
              "    <tr>\n",
              "      <th>0</th>\n",
              "      <td>bagussss</td>\n",
              "      <td>pos</td>\n",
              "      <td>5</td>\n",
              "    </tr>\n",
              "    <tr>\n",
              "      <th>1</th>\n",
              "      <td>Pengiriman gratis dan produk bervariasi</td>\n",
              "      <td>pos</td>\n",
              "      <td>5</td>\n",
              "    </tr>\n",
              "    <tr>\n",
              "      <th>2</th>\n",
              "      <td>Praktis dan mudah aplikasinya digunakan</td>\n",
              "      <td>pos</td>\n",
              "      <td>5</td>\n",
              "    </tr>\n",
              "    <tr>\n",
              "      <th>3</th>\n",
              "      <td>No comment</td>\n",
              "      <td>neg</td>\n",
              "      <td>2</td>\n",
              "    </tr>\n",
              "    <tr>\n",
              "      <th>4</th>\n",
              "      <td>Aplikasi Belanja Online terbaik di Indonesia ...</td>\n",
              "      <td>pos</td>\n",
              "      <td>5</td>\n",
              "    </tr>\n",
              "    <tr>\n",
              "      <th>5</th>\n",
              "      <td>good</td>\n",
              "      <td>pos</td>\n",
              "      <td>4</td>\n",
              "    </tr>\n",
              "    <tr>\n",
              "      <th>6</th>\n",
              "      <td>Mudah digunakan</td>\n",
              "      <td>pos</td>\n",
              "      <td>4</td>\n",
              "    </tr>\n",
              "    <tr>\n",
              "      <th>7</th>\n",
              "      <td>Ok lah</td>\n",
              "      <td>pos</td>\n",
              "      <td>5</td>\n",
              "    </tr>\n",
              "    <tr>\n",
              "      <th>8</th>\n",
              "      <td>Cukup membantu dl cari barang, lumayan banyak...</td>\n",
              "      <td>pos</td>\n",
              "      <td>5</td>\n",
              "    </tr>\n",
              "    <tr>\n",
              "      <th>9</th>\n",
              "      <td>worst e commerce</td>\n",
              "      <td>neg</td>\n",
              "      <td>1</td>\n",
              "    </tr>\n",
              "  </tbody>\n",
              "</table>\n",
              "</div>"
            ],
            "text/plain": [
              "                                                text label  stars\n",
              "0                                           bagussss   pos      5\n",
              "1            Pengiriman gratis dan produk bervariasi   pos      5\n",
              "2            Praktis dan mudah aplikasinya digunakan   pos      5\n",
              "3                                         No comment   neg      2\n",
              "4   Aplikasi Belanja Online terbaik di Indonesia ...   pos      5\n",
              "5                                               good   pos      4\n",
              "6                                    Mudah digunakan   pos      4\n",
              "7                                             Ok lah   pos      5\n",
              "8   Cukup membantu dl cari barang, lumayan banyak...   pos      5\n",
              "9                                   worst e commerce   neg      1"
            ]
          },
          "execution_count": 16,
          "metadata": {},
          "output_type": "execute_result"
        }
      ],
      "source": [
        "valid_data.head(10)"
      ]
    },
    {
      "cell_type": "code",
      "execution_count": 17,
      "metadata": {
        "colab": {
          "base_uri": "https://localhost:8080/"
        },
        "id": "mX7yPnUTfpaT",
        "outputId": "e057367e-272c-4762-c730-a7919d414768"
      },
      "outputs": [
        {
          "name": "stdout",
          "output_type": "stream",
          "text": [
            "<class 'pandas.core.frame.DataFrame'>\n",
            "RangeIndex: 3012 entries, 0 to 3011\n",
            "Data columns (total 3 columns):\n",
            " #   Column  Non-Null Count  Dtype \n",
            "---  ------  --------------  ----- \n",
            " 0   text    3012 non-null   object\n",
            " 1   label   3012 non-null   object\n",
            " 2   stars   3012 non-null   int8  \n",
            "dtypes: int8(1), object(2)\n",
            "memory usage: 50.1+ KB\n"
          ]
        }
      ],
      "source": [
        "valid_data.info()"
      ]
    },
    {
      "cell_type": "code",
      "execution_count": 18,
      "metadata": {
        "colab": {
          "base_uri": "https://localhost:8080/"
        },
        "id": "rbseXuQEf1Jx",
        "outputId": "bc02e109-cc5c-4001-c34c-601ba4177417"
      },
      "outputs": [
        {
          "data": {
            "text/html": [
              "<div>\n",
              "<style scoped>\n",
              "    .dataframe tbody tr th:only-of-type {\n",
              "        vertical-align: middle;\n",
              "    }\n",
              "\n",
              "    .dataframe tbody tr th {\n",
              "        vertical-align: top;\n",
              "    }\n",
              "\n",
              "    .dataframe thead th {\n",
              "        text-align: right;\n",
              "    }\n",
              "</style>\n",
              "<table border=\"1\" class=\"dataframe\">\n",
              "  <thead>\n",
              "    <tr style=\"text-align: right;\">\n",
              "      <th></th>\n",
              "      <th>text</th>\n",
              "      <th>label</th>\n",
              "      <th>stars</th>\n",
              "    </tr>\n",
              "  </thead>\n",
              "  <tbody>\n",
              "    <tr>\n",
              "      <th>count</th>\n",
              "      <td>3012</td>\n",
              "      <td>3012</td>\n",
              "      <td>3012.000000</td>\n",
              "    </tr>\n",
              "    <tr>\n",
              "      <th>unique</th>\n",
              "      <td>2397</td>\n",
              "      <td>2</td>\n",
              "      <td>NaN</td>\n",
              "    </tr>\n",
              "    <tr>\n",
              "      <th>top</th>\n",
              "      <td>Good</td>\n",
              "      <td>pos</td>\n",
              "      <td>NaN</td>\n",
              "    </tr>\n",
              "    <tr>\n",
              "      <th>freq</th>\n",
              "      <td>121</td>\n",
              "      <td>2532</td>\n",
              "      <td>NaN</td>\n",
              "    </tr>\n",
              "    <tr>\n",
              "      <th>mean</th>\n",
              "      <td>NaN</td>\n",
              "      <td>NaN</td>\n",
              "      <td>4.364874</td>\n",
              "    </tr>\n",
              "    <tr>\n",
              "      <th>std</th>\n",
              "      <td>NaN</td>\n",
              "      <td>NaN</td>\n",
              "      <td>1.253359</td>\n",
              "    </tr>\n",
              "    <tr>\n",
              "      <th>min</th>\n",
              "      <td>NaN</td>\n",
              "      <td>NaN</td>\n",
              "      <td>1.000000</td>\n",
              "    </tr>\n",
              "    <tr>\n",
              "      <th>25%</th>\n",
              "      <td>NaN</td>\n",
              "      <td>NaN</td>\n",
              "      <td>4.000000</td>\n",
              "    </tr>\n",
              "    <tr>\n",
              "      <th>50%</th>\n",
              "      <td>NaN</td>\n",
              "      <td>NaN</td>\n",
              "      <td>5.000000</td>\n",
              "    </tr>\n",
              "    <tr>\n",
              "      <th>75%</th>\n",
              "      <td>NaN</td>\n",
              "      <td>NaN</td>\n",
              "      <td>5.000000</td>\n",
              "    </tr>\n",
              "    <tr>\n",
              "      <th>max</th>\n",
              "      <td>NaN</td>\n",
              "      <td>NaN</td>\n",
              "      <td>5.000000</td>\n",
              "    </tr>\n",
              "  </tbody>\n",
              "</table>\n",
              "</div>"
            ],
            "text/plain": [
              "         text label        stars\n",
              "count    3012  3012  3012.000000\n",
              "unique   2397     2          NaN\n",
              "top      Good   pos          NaN\n",
              "freq      121  2532          NaN\n",
              "mean      NaN   NaN     4.364874\n",
              "std       NaN   NaN     1.253359\n",
              "min       NaN   NaN     1.000000\n",
              "25%       NaN   NaN     4.000000\n",
              "50%       NaN   NaN     5.000000\n",
              "75%       NaN   NaN     5.000000\n",
              "max       NaN   NaN     5.000000"
            ]
          },
          "execution_count": 18,
          "metadata": {},
          "output_type": "execute_result"
        }
      ],
      "source": [
        "valid_data.describe(include='all')"
      ]
    },
    {
      "cell_type": "markdown",
      "metadata": {
        "id": "KBq4mCnEW2Gc"
      },
      "source": [
        "Berdasarkan rangkuman diatas, terdapat Dua Kelas (Label) Sentiment yaitu Positif (pos) dan Negatif (neg). Dimana Kelas (Label) terbanyak pada Sentimen Positif (pos)"
      ]
    },
    {
      "cell_type": "code",
      "execution_count": 19,
      "metadata": {
        "colab": {
          "base_uri": "https://localhost:8080/"
        },
        "id": "HCS5FQY8siPW",
        "outputId": "e74eed49-e8e8-4eaa-8d3e-4e64d3f15b17"
      },
      "outputs": [
        {
          "data": {
            "text/plain": [
              "text     0\n",
              "label    0\n",
              "stars    0\n",
              "dtype: int64"
            ]
          },
          "execution_count": 19,
          "metadata": {},
          "output_type": "execute_result"
        }
      ],
      "source": [
        "#Identifikasi Missing Value\n",
        "valid_data.isna().sum()"
      ]
    },
    {
      "cell_type": "markdown",
      "metadata": {},
      "source": [
        "Pada data validation tidak terdapat missing value"
      ]
    },
    {
      "cell_type": "code",
      "execution_count": 20,
      "metadata": {
        "colab": {
          "base_uri": "https://localhost:8080/"
        },
        "id": "Kg-rZwtIskYj",
        "outputId": "3dd7cf6a-435d-4afb-c441-3e151a97f50c"
      },
      "outputs": [
        {
          "data": {
            "text/plain": [
              "574"
            ]
          },
          "execution_count": 20,
          "metadata": {},
          "output_type": "execute_result"
        }
      ],
      "source": [
        "#Identifikasi Data Duplikasi\n",
        "valid_data.duplicated().sum()"
      ]
    },
    {
      "cell_type": "markdown",
      "metadata": {
        "id": "FZSBnIheW9mD"
      },
      "source": [
        "Terdapat data duplikasi sebanyak 574 data, oleh karena itu perlu dilakukan penanganan"
      ]
    },
    {
      "cell_type": "code",
      "execution_count": 21,
      "metadata": {
        "id": "jNaZYJ7Mtdl_"
      },
      "outputs": [],
      "source": [
        "#Menghapus Data Duplikasi dan Mempertahankan Data Pertamanya\n",
        "valid_data = valid_data.drop_duplicates(subset=['text', 'label', 'stars'], keep='first')"
      ]
    },
    {
      "cell_type": "code",
      "execution_count": 22,
      "metadata": {
        "colab": {
          "base_uri": "https://localhost:8080/"
        },
        "id": "Z9hnGCwatg0W",
        "outputId": "c2d70bf1-ab6b-472d-f8ad-a73544cf95c5"
      },
      "outputs": [
        {
          "data": {
            "text/html": [
              "<div>\n",
              "<style scoped>\n",
              "    .dataframe tbody tr th:only-of-type {\n",
              "        vertical-align: middle;\n",
              "    }\n",
              "\n",
              "    .dataframe tbody tr th {\n",
              "        vertical-align: top;\n",
              "    }\n",
              "\n",
              "    .dataframe thead th {\n",
              "        text-align: right;\n",
              "    }\n",
              "</style>\n",
              "<table border=\"1\" class=\"dataframe\">\n",
              "  <thead>\n",
              "    <tr style=\"text-align: right;\">\n",
              "      <th></th>\n",
              "      <th>text</th>\n",
              "      <th>label</th>\n",
              "      <th>stars</th>\n",
              "    </tr>\n",
              "  </thead>\n",
              "  <tbody>\n",
              "    <tr>\n",
              "      <th>0</th>\n",
              "      <td>bagussss</td>\n",
              "      <td>pos</td>\n",
              "      <td>5</td>\n",
              "    </tr>\n",
              "    <tr>\n",
              "      <th>1</th>\n",
              "      <td>Pengiriman gratis dan produk bervariasi</td>\n",
              "      <td>pos</td>\n",
              "      <td>5</td>\n",
              "    </tr>\n",
              "    <tr>\n",
              "      <th>2</th>\n",
              "      <td>Praktis dan mudah aplikasinya digunakan</td>\n",
              "      <td>pos</td>\n",
              "      <td>5</td>\n",
              "    </tr>\n",
              "    <tr>\n",
              "      <th>3</th>\n",
              "      <td>No comment</td>\n",
              "      <td>neg</td>\n",
              "      <td>2</td>\n",
              "    </tr>\n",
              "    <tr>\n",
              "      <th>4</th>\n",
              "      <td>Aplikasi Belanja Online terbaik di Indonesia ...</td>\n",
              "      <td>pos</td>\n",
              "      <td>5</td>\n",
              "    </tr>\n",
              "    <tr>\n",
              "      <th>...</th>\n",
              "      <td>...</td>\n",
              "      <td>...</td>\n",
              "      <td>...</td>\n",
              "    </tr>\n",
              "    <tr>\n",
              "      <th>2433</th>\n",
              "      <td>Please add Tracking system Tambahkan fitur tra...</td>\n",
              "      <td>neg</td>\n",
              "      <td>3</td>\n",
              "    </tr>\n",
              "    <tr>\n",
              "      <th>2434</th>\n",
              "      <td>Great app, easy to use, wide range of selecti...</td>\n",
              "      <td>pos</td>\n",
              "      <td>5</td>\n",
              "    </tr>\n",
              "    <tr>\n",
              "      <th>2435</th>\n",
              "      <td>I don't know</td>\n",
              "      <td>neg</td>\n",
              "      <td>3</td>\n",
              "    </tr>\n",
              "    <tr>\n",
              "      <th>2436</th>\n",
              "      <td>Quite great app.</td>\n",
              "      <td>pos</td>\n",
              "      <td>4</td>\n",
              "    </tr>\n",
              "    <tr>\n",
              "      <th>2437</th>\n",
              "      <td>barang2nya original.. love it</td>\n",
              "      <td>pos</td>\n",
              "      <td>5</td>\n",
              "    </tr>\n",
              "  </tbody>\n",
              "</table>\n",
              "<p>2438 rows × 3 columns</p>\n",
              "</div>"
            ],
            "text/plain": [
              "                                                   text label  stars\n",
              "0                                              bagussss   pos      5\n",
              "1               Pengiriman gratis dan produk bervariasi   pos      5\n",
              "2               Praktis dan mudah aplikasinya digunakan   pos      5\n",
              "3                                            No comment   neg      2\n",
              "4      Aplikasi Belanja Online terbaik di Indonesia ...   pos      5\n",
              "...                                                 ...   ...    ...\n",
              "2433  Please add Tracking system Tambahkan fitur tra...   neg      3\n",
              "2434   Great app, easy to use, wide range of selecti...   pos      5\n",
              "2435                                       I don't know   neg      3\n",
              "2436                                   Quite great app.   pos      4\n",
              "2437                      barang2nya original.. love it   pos      5\n",
              "\n",
              "[2438 rows x 3 columns]"
            ]
          },
          "execution_count": 22,
          "metadata": {},
          "output_type": "execute_result"
        }
      ],
      "source": [
        "valid_data = valid_data.reset_index(drop=True)\n",
        "valid_data"
      ]
    },
    {
      "cell_type": "code",
      "execution_count": 23,
      "metadata": {
        "colab": {
          "base_uri": "https://localhost:8080/"
        },
        "id": "TKFvl2NdtpVW",
        "outputId": "07f2831f-f2f4-4f72-d58e-84d12d2d3267"
      },
      "outputs": [
        {
          "name": "stdout",
          "output_type": "stream",
          "text": [
            "Jumlah Data Sentimen pos : 1965\n",
            "Jumlah Data Sentimen neg : 473\n"
          ]
        },
        {
          "data": {
            "image/png": "[encoded data removed]",
            "text/plain": [
              "<Figure size 1080x576 with 1 Axes>"
            ]
          },
          "metadata": {},
          "output_type": "display_data"
        }
      ],
      "source": [
        "import matplotlib.pyplot as plt\n",
        "columns_failure_type = valid_data['label'].unique().tolist()\n",
        "plt.rcParams[\"figure.figsize\"] = (15,8)\n",
        "plt.pie(valid_data['label'].value_counts(), autopct='%1.1f%%',\n",
        "        wedgeprops={'edgecolor': 'black'}, counterclock=False, startangle=25,\n",
        "        radius=1.3, labels=columns_failure_type, textprops={'fontsize': 15, 'weight': 'bold'})\n",
        "plt.legend(columns_failure_type, loc='upper left', fontsize=12)\n",
        "plt.tight_layout()\n",
        "\n",
        "for label, count in valid_data['label'].value_counts().iteritems():\n",
        "    print(\"Jumlah Data Sentimen\", label, \":\", count)"
      ]
    },
    {
      "cell_type": "markdown",
      "metadata": {
        "id": "1Z-nVZR5XIrB"
      },
      "source": [
        "Berdasarkan hasil visualisasi, terlihat bahwa distribusi kelas data tidak seimbang, atau disebut sebagai Imbalance Data. Persentase menunjukkan bahwa kelas Positif (pos) memiliki 1965 data (80.6%), sementara kelas Negatif hanya memiliki 473 data (19.4.5%). Oleh karena itu, diperlukan tindakan untuk menangani ketidakseimbangan ini."
      ]
    },
    {
      "cell_type": "code",
      "execution_count": 24,
      "metadata": {
        "colab": {
          "base_uri": "https://localhost:8080/"
        },
        "id": "rD97rMwguB_G",
        "outputId": "f96fbb6f-1039-4b2c-a6f4-27d4cc7f158f"
      },
      "outputs": [
        {
          "data": {
            "image/png": "[encoded data removed]",
            "text/plain": [
              "<Figure size 720x432 with 1 Axes>"
            ]
          },
          "metadata": {
            "needs_background": "light"
          },
          "output_type": "display_data"
        }
      ],
      "source": [
        "rating_valid = valid_data.stars.value_counts()\n",
        "plt.figure(figsize=(10, 6))\n",
        "colors = [\"b\", \"#72BCD4\", \"#72BCD4\", \"#72BCD4\", \"#72BCD4\"]\n",
        "plt.bar(rating_valid.index, rating_valid.values, color = colors )\n",
        "plt.title('Persebaran Rating')\n",
        "plt.xlabel('Rating Ulasan')\n",
        "plt.ylabel('Jumlah Ulasan')\n",
        "plt.show()"
      ]
    },
    {
      "cell_type": "markdown",
      "metadata": {
        "id": "wKjC46x0Xr00"
      },
      "source": [
        "Berdasarkan visualisasi diagram batang yang menggambarkan persebaran kelas sentimen, dapat disimpulkan bahwa mayoritas rating berada pada rating 4 dan 5. Oleh karena itu, dapat disimpulkan bahwa sentimen yang dominan adalah Positif (pos)."
      ]
    },
    {
      "cell_type": "markdown",
      "metadata": {
        "id": "PgjLznkrXxHa"
      },
      "source": [
        "## **Pre-Processing Data**"
      ]
    },
    {
      "cell_type": "markdown",
      "metadata": {
        "id": "Aqd9n8FOZIUl"
      },
      "source": [
        "### Cleansing Unnecessary Columns"
      ]
    },
    {
      "cell_type": "markdown",
      "metadata": {},
      "source": [
        "Menghilangkan kolom yang tidak digunakan pada dataframe"
      ]
    },
    {
      "cell_type": "code",
      "execution_count": 25,
      "metadata": {
        "colab": {
          "base_uri": "https://localhost:8080/"
        },
        "id": "lKSGDqLhX9Bw",
        "outputId": "ff76462d-363b-4639-e38c-330e5a383422"
      },
      "outputs": [
        {
          "data": {
            "text/html": [
              "<div>\n",
              "<style scoped>\n",
              "    .dataframe tbody tr th:only-of-type {\n",
              "        vertical-align: middle;\n",
              "    }\n",
              "\n",
              "    .dataframe tbody tr th {\n",
              "        vertical-align: top;\n",
              "    }\n",
              "\n",
              "    .dataframe thead th {\n",
              "        text-align: right;\n",
              "    }\n",
              "</style>\n",
              "<table border=\"1\" class=\"dataframe\">\n",
              "  <thead>\n",
              "    <tr style=\"text-align: right;\">\n",
              "      <th></th>\n",
              "      <th>text</th>\n",
              "      <th>label</th>\n",
              "      <th>stars</th>\n",
              "    </tr>\n",
              "  </thead>\n",
              "  <tbody>\n",
              "    <tr>\n",
              "      <th>0</th>\n",
              "      <td>Halo\\n blibli. Sedikit saran untuk gratis ong...</td>\n",
              "      <td>pos</td>\n",
              "      <td>4</td>\n",
              "    </tr>\n",
              "    <tr>\n",
              "      <th>1</th>\n",
              "      <td>So far so good. Respon cepat.</td>\n",
              "      <td>pos</td>\n",
              "      <td>5</td>\n",
              "    </tr>\n",
              "    <tr>\n",
              "      <th>2</th>\n",
              "      <td>thank</td>\n",
              "      <td>neg</td>\n",
              "      <td>3</td>\n",
              "    </tr>\n",
              "    <tr>\n",
              "      <th>3</th>\n",
              "      <td>Aplikasi sering not responding di hp saya (as...</td>\n",
              "      <td>neg</td>\n",
              "      <td>2</td>\n",
              "    </tr>\n",
              "    <tr>\n",
              "      <th>4</th>\n",
              "      <td>Gak ada komentar.</td>\n",
              "      <td>pos</td>\n",
              "      <td>5</td>\n",
              "    </tr>\n",
              "    <tr>\n",
              "      <th>5</th>\n",
              "      <td>Sangat bagussss</td>\n",
              "      <td>pos</td>\n",
              "      <td>5</td>\n",
              "    </tr>\n",
              "    <tr>\n",
              "      <th>6</th>\n",
              "      <td>Thanks for your help and support</td>\n",
              "      <td>pos</td>\n",
              "      <td>4</td>\n",
              "    </tr>\n",
              "    <tr>\n",
              "      <th>7</th>\n",
              "      <td>The appplication is easy to use</td>\n",
              "      <td>pos</td>\n",
              "      <td>5</td>\n",
              "    </tr>\n",
              "    <tr>\n",
              "      <th>8</th>\n",
              "      <td>Gud</td>\n",
              "      <td>pos</td>\n",
              "      <td>5</td>\n",
              "    </tr>\n",
              "    <tr>\n",
              "      <th>9</th>\n",
              "      <td>Gooooooood</td>\n",
              "      <td>pos</td>\n",
              "      <td>5</td>\n",
              "    </tr>\n",
              "  </tbody>\n",
              "</table>\n",
              "</div>"
            ],
            "text/plain": [
              "                                                text label  stars\n",
              "0   Halo\\n blibli. Sedikit saran untuk gratis ong...   pos      4\n",
              "1                      So far so good. Respon cepat.   pos      5\n",
              "2                                              thank   neg      3\n",
              "3   Aplikasi sering not responding di hp saya (as...   neg      2\n",
              "4                                  Gak ada komentar.   pos      5\n",
              "5                                    Sangat bagussss   pos      5\n",
              "6                   Thanks for your help and support   pos      4\n",
              "7                    The appplication is easy to use   pos      5\n",
              "8                                                Gud   pos      5\n",
              "9                                         Gooooooood   pos      5"
            ]
          },
          "execution_count": 25,
          "metadata": {},
          "output_type": "execute_result"
        }
      ],
      "source": [
        "train_data.head(10)"
      ]
    },
    {
      "cell_type": "code",
      "execution_count": 26,
      "metadata": {
        "colab": {
          "base_uri": "https://localhost:8080/"
        },
        "id": "TJr-psRaYBrz",
        "outputId": "8d74cf15-c445-4695-914a-ca57bc69f83e"
      },
      "outputs": [
        {
          "data": {
            "text/html": [
              "<div>\n",
              "<style scoped>\n",
              "    .dataframe tbody tr th:only-of-type {\n",
              "        vertical-align: middle;\n",
              "    }\n",
              "\n",
              "    .dataframe tbody tr th {\n",
              "        vertical-align: top;\n",
              "    }\n",
              "\n",
              "    .dataframe thead th {\n",
              "        text-align: right;\n",
              "    }\n",
              "</style>\n",
              "<table border=\"1\" class=\"dataframe\">\n",
              "  <thead>\n",
              "    <tr style=\"text-align: right;\">\n",
              "      <th></th>\n",
              "      <th>text</th>\n",
              "      <th>label</th>\n",
              "      <th>stars</th>\n",
              "    </tr>\n",
              "  </thead>\n",
              "  <tbody>\n",
              "    <tr>\n",
              "      <th>0</th>\n",
              "      <td>bagussss</td>\n",
              "      <td>pos</td>\n",
              "      <td>5</td>\n",
              "    </tr>\n",
              "    <tr>\n",
              "      <th>1</th>\n",
              "      <td>Pengiriman gratis dan produk bervariasi</td>\n",
              "      <td>pos</td>\n",
              "      <td>5</td>\n",
              "    </tr>\n",
              "    <tr>\n",
              "      <th>2</th>\n",
              "      <td>Praktis dan mudah aplikasinya digunakan</td>\n",
              "      <td>pos</td>\n",
              "      <td>5</td>\n",
              "    </tr>\n",
              "    <tr>\n",
              "      <th>3</th>\n",
              "      <td>No comment</td>\n",
              "      <td>neg</td>\n",
              "      <td>2</td>\n",
              "    </tr>\n",
              "    <tr>\n",
              "      <th>4</th>\n",
              "      <td>Aplikasi Belanja Online terbaik di Indonesia ...</td>\n",
              "      <td>pos</td>\n",
              "      <td>5</td>\n",
              "    </tr>\n",
              "    <tr>\n",
              "      <th>5</th>\n",
              "      <td>good</td>\n",
              "      <td>pos</td>\n",
              "      <td>4</td>\n",
              "    </tr>\n",
              "    <tr>\n",
              "      <th>6</th>\n",
              "      <td>Mudah digunakan</td>\n",
              "      <td>pos</td>\n",
              "      <td>4</td>\n",
              "    </tr>\n",
              "    <tr>\n",
              "      <th>7</th>\n",
              "      <td>Ok lah</td>\n",
              "      <td>pos</td>\n",
              "      <td>5</td>\n",
              "    </tr>\n",
              "    <tr>\n",
              "      <th>8</th>\n",
              "      <td>Cukup membantu dl cari barang, lumayan banyak...</td>\n",
              "      <td>pos</td>\n",
              "      <td>5</td>\n",
              "    </tr>\n",
              "    <tr>\n",
              "      <th>9</th>\n",
              "      <td>worst e commerce</td>\n",
              "      <td>neg</td>\n",
              "      <td>1</td>\n",
              "    </tr>\n",
              "  </tbody>\n",
              "</table>\n",
              "</div>"
            ],
            "text/plain": [
              "                                                text label  stars\n",
              "0                                           bagussss   pos      5\n",
              "1            Pengiriman gratis dan produk bervariasi   pos      5\n",
              "2            Praktis dan mudah aplikasinya digunakan   pos      5\n",
              "3                                         No comment   neg      2\n",
              "4   Aplikasi Belanja Online terbaik di Indonesia ...   pos      5\n",
              "5                                               good   pos      4\n",
              "6                                    Mudah digunakan   pos      4\n",
              "7                                             Ok lah   pos      5\n",
              "8   Cukup membantu dl cari barang, lumayan banyak...   pos      5\n",
              "9                                   worst e commerce   neg      1"
            ]
          },
          "execution_count": 26,
          "metadata": {},
          "output_type": "execute_result"
        }
      ],
      "source": [
        "valid_data.head(10)"
      ]
    },
    {
      "cell_type": "markdown",
      "metadata": {
        "id": "BrJ8YnrCYGoO"
      },
      "source": [
        "Oleh karena nilai rating tidak digunakan dalam pemrosesan lebih lanjut maka kolom \"stars\" akan dihapus pada data training dan validation"
      ]
    },
    {
      "cell_type": "code",
      "execution_count": 27,
      "metadata": {
        "id": "61GHU_KPYcFC"
      },
      "outputs": [],
      "source": [
        "#Menghapus kolom yang tidak digunakan\n",
        "train_data = train_data.drop('stars', axis=1)\n",
        "valid_data = valid_data.drop('stars', axis=1)"
      ]
    },
    {
      "cell_type": "markdown",
      "metadata": {
        "id": "6hX9PV5AZFwa"
      },
      "source": [
        "### Case Folding"
      ]
    },
    {
      "cell_type": "markdown",
      "metadata": {
        "id": "KTIQ8yLRZ5i8"
      },
      "source": [
        "Case folding adalah proses pengubahan huruf dalam suatu teks menjadi format yang seragam, biasanya dengan mengonversi semua huruf menjadi huruf kecil (lowercase). Tujuan dari case folding adalah untuk menyamakan representasi teks yang memiliki huruf kapital dan huruf kecil agar lebih mudah untuk diproses"
      ]
    },
    {
      "cell_type": "code",
      "execution_count": 28,
      "metadata": {
        "id": "aIiuXSHBYjNK"
      },
      "outputs": [],
      "source": [
        "train_data['text'] = train_data['text'].str.lower()\n",
        "valid_data['text'] = valid_data['text'].str.lower()"
      ]
    },
    {
      "cell_type": "code",
      "execution_count": 29,
      "metadata": {
        "colab": {
          "base_uri": "https://localhost:8080/"
        },
        "id": "uk3NWmVdbSBH",
        "outputId": "d3b0e605-ff19-41ea-9211-58d2149cd0bb"
      },
      "outputs": [
        {
          "data": {
            "text/html": [
              "<div>\n",
              "<style scoped>\n",
              "    .dataframe tbody tr th:only-of-type {\n",
              "        vertical-align: middle;\n",
              "    }\n",
              "\n",
              "    .dataframe tbody tr th {\n",
              "        vertical-align: top;\n",
              "    }\n",
              "\n",
              "    .dataframe thead th {\n",
              "        text-align: right;\n",
              "    }\n",
              "</style>\n",
              "<table border=\"1\" class=\"dataframe\">\n",
              "  <thead>\n",
              "    <tr style=\"text-align: right;\">\n",
              "      <th></th>\n",
              "      <th>text</th>\n",
              "      <th>label</th>\n",
              "    </tr>\n",
              "  </thead>\n",
              "  <tbody>\n",
              "    <tr>\n",
              "      <th>0</th>\n",
              "      <td>halo\\n blibli. sedikit saran untuk gratis ong...</td>\n",
              "      <td>pos</td>\n",
              "    </tr>\n",
              "    <tr>\n",
              "      <th>1</th>\n",
              "      <td>so far so good. respon cepat.</td>\n",
              "      <td>pos</td>\n",
              "    </tr>\n",
              "    <tr>\n",
              "      <th>2</th>\n",
              "      <td>thank</td>\n",
              "      <td>neg</td>\n",
              "    </tr>\n",
              "    <tr>\n",
              "      <th>3</th>\n",
              "      <td>aplikasi sering not responding di hp saya (as...</td>\n",
              "      <td>neg</td>\n",
              "    </tr>\n",
              "    <tr>\n",
              "      <th>4</th>\n",
              "      <td>gak ada komentar.</td>\n",
              "      <td>pos</td>\n",
              "    </tr>\n",
              "  </tbody>\n",
              "</table>\n",
              "</div>"
            ],
            "text/plain": [
              "                                                text label\n",
              "0   halo\\n blibli. sedikit saran untuk gratis ong...   pos\n",
              "1                      so far so good. respon cepat.   pos\n",
              "2                                              thank   neg\n",
              "3   aplikasi sering not responding di hp saya (as...   neg\n",
              "4                                  gak ada komentar.   pos"
            ]
          },
          "execution_count": 29,
          "metadata": {},
          "output_type": "execute_result"
        }
      ],
      "source": [
        "train_data.head(5)"
      ]
    },
    {
      "cell_type": "code",
      "execution_count": 30,
      "metadata": {
        "colab": {
          "base_uri": "https://localhost:8080/"
        },
        "id": "WYanWiYBpdA9",
        "outputId": "acc20d1f-cfee-4a12-be81-33000db35696"
      },
      "outputs": [
        {
          "data": {
            "text/html": [
              "<div>\n",
              "<style scoped>\n",
              "    .dataframe tbody tr th:only-of-type {\n",
              "        vertical-align: middle;\n",
              "    }\n",
              "\n",
              "    .dataframe tbody tr th {\n",
              "        vertical-align: top;\n",
              "    }\n",
              "\n",
              "    .dataframe thead th {\n",
              "        text-align: right;\n",
              "    }\n",
              "</style>\n",
              "<table border=\"1\" class=\"dataframe\">\n",
              "  <thead>\n",
              "    <tr style=\"text-align: right;\">\n",
              "      <th></th>\n",
              "      <th>text</th>\n",
              "      <th>label</th>\n",
              "    </tr>\n",
              "  </thead>\n",
              "  <tbody>\n",
              "    <tr>\n",
              "      <th>0</th>\n",
              "      <td>bagussss</td>\n",
              "      <td>pos</td>\n",
              "    </tr>\n",
              "    <tr>\n",
              "      <th>1</th>\n",
              "      <td>pengiriman gratis dan produk bervariasi</td>\n",
              "      <td>pos</td>\n",
              "    </tr>\n",
              "    <tr>\n",
              "      <th>2</th>\n",
              "      <td>praktis dan mudah aplikasinya digunakan</td>\n",
              "      <td>pos</td>\n",
              "    </tr>\n",
              "    <tr>\n",
              "      <th>3</th>\n",
              "      <td>no comment</td>\n",
              "      <td>neg</td>\n",
              "    </tr>\n",
              "    <tr>\n",
              "      <th>4</th>\n",
              "      <td>aplikasi belanja online terbaik di indonesia ...</td>\n",
              "      <td>pos</td>\n",
              "    </tr>\n",
              "  </tbody>\n",
              "</table>\n",
              "</div>"
            ],
            "text/plain": [
              "                                                text label\n",
              "0                                           bagussss   pos\n",
              "1            pengiriman gratis dan produk bervariasi   pos\n",
              "2            praktis dan mudah aplikasinya digunakan   pos\n",
              "3                                         no comment   neg\n",
              "4   aplikasi belanja online terbaik di indonesia ...   pos"
            ]
          },
          "execution_count": 30,
          "metadata": {},
          "output_type": "execute_result"
        }
      ],
      "source": [
        "valid_data.head(5)"
      ]
    },
    {
      "cell_type": "markdown",
      "metadata": {
        "id": "5bDJlj8EpuX1"
      },
      "source": [
        "### Remove Newline Characters"
      ]
    },
    {
      "cell_type": "markdown",
      "metadata": {
        "id": "Wvk2lRIVh0zB"
      },
      "source": [
        "\"Remove Newline Characters\" adalah langkah yang umum yang bertujuan untuk Menghilangkan karakter newline membantu menjaga konsistensi format teks. Newline characters, seperti \"\\n\", dapat muncul dalam teks dan memengaruhi pemrosesan atau analisis teks."
      ]
    },
    {
      "cell_type": "code",
      "execution_count": 31,
      "metadata": {
        "id": "IByh3ww8ptBL"
      },
      "outputs": [],
      "source": [
        "import re\n",
        "def remove_newline_characters(text):\n",
        "    cleaned_text = text.replace('\\n', ' ')\n",
        "    return cleaned_text"
      ]
    },
    {
      "cell_type": "code",
      "execution_count": 32,
      "metadata": {
        "id": "Uyp6mgnHqRe5"
      },
      "outputs": [],
      "source": [
        "train_data['text'] = train_data['text'].apply(remove_newline_characters)\n",
        "valid_data['text'] = valid_data['text'].apply(remove_newline_characters)"
      ]
    },
    {
      "cell_type": "markdown",
      "metadata": {
        "id": "YH5jbz8nqyXT"
      },
      "source": [
        "### Remove Special Characters"
      ]
    },
    {
      "cell_type": "markdown",
      "metadata": {
        "id": "B6EElPPeiIfE"
      },
      "source": [
        "\"Remove Special Characters\" adalah menghilangkan Special characters, dimana karakter-karakter yang tidak termasuk dalam kategori huruf atau angka biasa. Ini dapat mencakup karakter seperti tanda baca, simbol, dan karakter khusus lainnya. Membantu mencegah masalah saat tokenisasi dan konsistensi teks."
      ]
    },
    {
      "cell_type": "code",
      "execution_count": 33,
      "metadata": {
        "id": "XkN2GAgfq4mg"
      },
      "outputs": [],
      "source": [
        "import re\n",
        "def remove_special_characters(text, remove_digits=True):\n",
        "  pattern = r'[^a-zA-z0-9\\s]'\n",
        "  text=re.sub(pattern, '', text)\n",
        "  return text"
      ]
    },
    {
      "cell_type": "code",
      "execution_count": 34,
      "metadata": {
        "id": "3aEzuDKrrEr2"
      },
      "outputs": [],
      "source": [
        "train_data['text'] = train_data['text'].apply(remove_special_characters)\n",
        "valid_data['text'] = valid_data['text'].apply(remove_special_characters)"
      ]
    },
    {
      "cell_type": "markdown",
      "metadata": {
        "id": "qEKhVRhuq4_n"
      },
      "source": [
        "### Remove Double Spaces"
      ]
    },
    {
      "cell_type": "markdown",
      "metadata": {
        "id": "DI-1RlpeikWR"
      },
      "source": [
        "\"Remove Double Spaces\" adalah langkah dalam pemrosesan data teks yang bertujuan untuk menghilangkan spasi berlebihan yang mungkin muncul di antara kata-kata atau di bagian lain dari teks. Spasi berlebihan dapat merugikan dalam beberapa konteks, terutama ketika menganalisis teks atau memproses teks untuk tugas seperti klasifikasi teks."
      ]
    },
    {
      "cell_type": "code",
      "execution_count": 35,
      "metadata": {
        "id": "8s6OaydRsk22"
      },
      "outputs": [],
      "source": [
        "import re\n",
        "def remove_double_spaces(text):\n",
        "    cleaned_text = re.sub(' +', ' ', text)\n",
        "    return cleaned_text"
      ]
    },
    {
      "cell_type": "code",
      "execution_count": 36,
      "metadata": {
        "id": "_ao1GqkSsv5G"
      },
      "outputs": [],
      "source": [
        "train_data['text'] = train_data['text'].apply(remove_double_spaces)\n",
        "valid_data['text'] = valid_data['text'].apply(remove_double_spaces)"
      ]
    },
    {
      "cell_type": "markdown",
      "metadata": {
        "id": "Sl23g15EwJjO"
      },
      "source": [
        "### Remove Data with Spaces"
      ]
    },
    {
      "cell_type": "markdown",
      "metadata": {
        "id": "jlgYmtZci_wW"
      },
      "source": [
        "\"Remove Data with Spaces\" merujuk pada langkah menghapus baris atau entri data yang hanya berisi spasi atau karakter whitespace. Dalam konteks ini, data yang hanya terdiri dari karakter spesial akan diubah menjadi spasi sehingga data tersebut dianggap tidak bernilai dan perlu dihapus dari dataset."
      ]
    },
    {
      "cell_type": "code",
      "execution_count": 37,
      "metadata": {
        "id": "5ookSfEewO2T"
      },
      "outputs": [],
      "source": [
        "def remove_data_with_spaces(row):\n",
        "    return row['text'].strip() != ''"
      ]
    },
    {
      "cell_type": "code",
      "execution_count": 38,
      "metadata": {
        "id": "wd2wbHZHxWma"
      },
      "outputs": [],
      "source": [
        "train_data = train_data[train_data.apply(remove_data_with_spaces, axis=1)]\n",
        "valid_data = valid_data[valid_data.apply(remove_data_with_spaces, axis=1)]"
      ]
    },
    {
      "cell_type": "code",
      "execution_count": 39,
      "metadata": {
        "id": "mhsMgSqpxKu5"
      },
      "outputs": [],
      "source": [
        "train_data = train_data.reset_index(drop=True)\n",
        "valid_data = valid_data.reset_index(drop=True)"
      ]
    },
    {
      "cell_type": "markdown",
      "metadata": {
        "id": "mx9juXEJlzZi"
      },
      "source": [
        "### Normalisasi"
      ]
    },
    {
      "cell_type": "markdown",
      "metadata": {
        "id": "PaN-z6359BgK"
      },
      "source": [
        "Normalisasi teks adalah proses mengubah teks ke dalam bentuk yang lebih standar atau konsisten, umumnya dengan tujuan untuk mempermudah analisis dan pemrosesan lebih lanjut. Banyak ditemukan kata yang tidak baku/standar yaitu berupa kata singkatan seperti yg (yang), aja (saja) dll"
      ]
    },
    {
      "cell_type": "code",
      "execution_count": 40,
      "metadata": {
        "colab": {
          "base_uri": "https://localhost:8080/"
        },
        "id": "3K9cMQWy1sUH",
        "outputId": "c9b95a66-eada-4978-a8ad-e7888b4d5990"
      },
      "outputs": [
        {
          "name": "stderr",
          "output_type": "stream",
          "text": [
            "[nltk_data] Downloading package punkt to\n",
            "[nltk_data]     C:\\Users\\muham\\AppData\\Roaming\\nltk_data...\n",
            "[nltk_data]   Package punkt is already up-to-date!\n"
          ]
        }
      ],
      "source": [
        "from nltk.tokenize import word_tokenize\n",
        "import nltk\n",
        "nltk.download('punkt')  # Download data untuk tokenisasi\n",
        "\n",
        "# Kamus penggantian kata-kata yang salah\n",
        "norm = {'yg': 'yang',\n",
        "        'ga': 'tidak',\n",
        "        'gak': 'tidak',\n",
        "        'aja': 'saja',\n",
        "        'cs': 'customer service',\n",
        "        'kalo': 'kalau',\n",
        "        'tp': 'tapi',\n",
        "        'tdk': 'tidak',\n",
        "        'n': 'and',\n",
        "        'dgn': 'dengan',\n",
        "        'pake': 'pakai',\n",
        "        'utk': 'untuk',\n",
        "        'bgt': 'sangat',\n",
        "        'dr': 'dari',\n",
        "        'bs': 'bisa',\n",
        "        'sy': 'saya',\n",
        "        'jg': 'juga',\n",
        "        'bli': 'beli',\n",
        "        'lg': 'lagi',\n",
        "        'jd': 'jadi',\n",
        "        'sdh': 'sudah',\n",
        "        'klo': 'kalau',\n",
        "        'krn': 'karena',\n",
        "        'mantab': 'mantap',\n",
        "        'tgl': 'tanggal',\n",
        "        'gk': 'tidak',\n",
        "        'g': 'tidak',\n",
        "        'dah': 'sudah',\n",
        "        'thx': 'thank',\n",
        "        'brg': 'barang',\n",
        "        'skrg': 'sekarang',\n",
        "        'trus': 'terus',\n",
        "        'ori': 'original',\n",
        "        'blm': 'belum',\n",
        "        'tau': 'tahu',\n",
        "        'dapet': 'dapat',\n",
        "        'bli2': 'blibli',\n",
        "        'sm': 'sama',\n",
        "        'u': 'you',\n",
        "        'kayak': 'seperti',\n",
        "        'dpt': 'dapat',\n",
        "        'gabisa': 'tidak bisa',\n",
        "        'dg': 'dengan',\n",
        "        'eror': 'error',\n",
        "        'servicenya': 'service',\n",
        "        'gitu': 'begitu',\n",
        "        'barang2': 'barang',\n",
        "        'dlm': 'dalam',\n",
        "        'lbh': 'lebih',\n",
        "        'mulu': 'melulu',\n",
        "        'appnya': 'application',\n",
        "        'mantul': 'mantap',\n",
        "        'blanja': 'belanja',\n",
        "        'yaa': 'iya',\n",
        "        'pdhl': 'padahal',\n",
        "        'ngga': 'tidak',\n",
        "        'telp': 'telepon',\n",
        "        'tetep': 'tetap',\n",
        "        'msh': 'masih',\n",
        "        'uda': 'sudah',\n",
        "        'cust': 'customer',\n",
        "        'bener': 'benar',\n",
        "        'emang': 'emang',\n",
        "        'nunggu': 'tunggu',\n",
        "        'hrs': 'harus',\n",
        "        'drpd': 'daripada',\n",
        "        'onlineshop': 'online shop',\n",
        "        'mantappp': 'mantap',\n",
        "        'apa2': 'apa',\n",
        "        'kasi': 'kasih',\n",
        "        'spt': 'seperti',\n",
        "        'musti': 'mesti',\n",
        "        'smoga': 'semoga',\n",
        "        'tiba2': 'mendadak',\n",
        "        'bbrp': 'beberapa',\n",
        "        'nyoba': 'coba',\n",
        "        'barang2nya': 'barang',\n",
        "        'ngasih': 'kasih',\n",
        "        'dri': 'dari',\n",
        "        'bsa': 'bisa',\n",
        "        'dll': 'dan lain lain',\n",
        "        'kl': 'kalau',\n",
        "        'berkalikali': 'sering',\n",
        "        'ngaco': 'sembarangan',\n",
        "        'tsb': 'tersebut',\n",
        "        'gud': 'good',\n",
        "        'benar2': 'benar',\n",
        "        'ngerti': 'mengerti',\n",
        "        'ato': 'atau',\n",
        "        'nyesel': 'menyesal',\n",
        "        'disc': 'discount',\n",
        "        'sgt': 'sangat',\n",
        "        'bibli': 'blibli',\n",
        "        'pls': 'please',\n",
        "        'bgus': 'bagus',\n",
        "        'bnyk': 'banyak',\n",
        "        'jgn': 'jangan',\n",
        "        'org': 'orang',\n",
        "        'sering2': 'sering',\n",
        "        'rb': 'ribu',\n",
        "        'goood': 'good',\n",
        "        'guys': 'friend',\n",
        "        'knp': 'kenapa',\n",
        "        'k': 'ke',\n",
        "        'tks': 'thanks',\n",
        "        'hape': 'handphone',\n",
        "        'pd': 'pada',\n",
        "        'cpt': 'cepat',\n",
        "        'ud': 'sudah',\n",
        "        'tq': 'thanks',\n",
        "        'penggunaannya': 'penggunaan',\n",
        "        'ajah': 'saja',\n",
        "        'apik': 'bagus',\n",
        "        'apl': 'aplikasi',\n",
        "        'sya': 'saya',\n",
        "        'ama': 'sama',\n",
        "        'gooooooood': 'good',\n",
        "        'trs': 'terus',\n",
        "        'bagussss': 'bagus',\n",
        "        'itt': 'it',\n",
        "        'okeeeeyyy': 'ok',\n",
        "        'jauhhh': 'jauh',\n",
        "        'bagussss': 'bagus'\n",
        "        }\n",
        "\n",
        "\n",
        "train_data['text'] = train_data['text'].apply(lambda x: ' '.join([norm.get(token, token) for token in word_tokenize(x.lower())]))\n",
        "valid_data['text'] = valid_data['text'].apply(lambda x: ' '.join([norm.get(token, token) for token in word_tokenize(x.lower())]))"
      ]
    },
    {
      "cell_type": "markdown",
      "metadata": {
        "id": "IErgmkdsb5M_"
      },
      "source": [
        "### Stopword"
      ]
    },
    {
      "cell_type": "markdown",
      "metadata": {
        "id": "F1lCrmnZjjkz"
      },
      "source": [
        "Stopwords adalah kata-kata umum yang biasanya dianggap tidak memiliki nilai informasi signifikan dalam analisis teks atau pemrosesan bahasa alami. Pada dataset yang dipakai pada projek ini terdiri dari beberapa bahasa sehingga dalam pemrosesan stopword perlu dilakukan identifikasi terlebih dahulu guna menentukan proses lebih lanjut"
      ]
    },
    {
      "cell_type": "markdown",
      "metadata": {
        "id": "tmj1i1aCjjPv"
      },
      "source": [
        "Identifikasi Bahasa Dalam Data Training"
      ]
    },
    {
      "cell_type": "code",
      "execution_count": 41,
      "metadata": {
        "colab": {
          "base_uri": "https://localhost:8080/"
        },
        "id": "Dp59zFIyi452",
        "outputId": "77f1cfd8-1e91-4d4b-b555-345ffcbb828a"
      },
      "outputs": [
        {
          "name": "stdout",
          "output_type": "stream",
          "text": [
            "Top 3 Bahasa:\n",
            "en: 74.24%\n",
            "id: 8.93%\n",
            "de: 2.64%\n"
          ]
        }
      ],
      "source": [
        "import langid\n",
        "import pandas as pd\n",
        "from collections import Counter\n",
        "\n",
        "def identify_language_percentage(text):\n",
        "    words = text.split()\n",
        "    languages = [langid.classify(word)[0] for word in words]\n",
        "\n",
        "    total_words = len(words)\n",
        "    language_counts = Counter(languages)\n",
        "    language_percentages = {lang: count / total_words * 100 for lang, count in language_counts.items()}\n",
        "\n",
        "    return language_percentages\n",
        "\n",
        "# Identifikasi bahasa dan tambahkan kolom persentase\n",
        "train_data['language_percentages'] = train_data['text'].apply(identify_language_percentage)\n",
        "\n",
        "# Menghitung rata-rata persentase untuk setiap bahasa\n",
        "overall_percentages = {}\n",
        "\n",
        "for _, row in train_data.iterrows():\n",
        "    for lang, percentage in row['language_percentages'].items():\n",
        "        overall_percentages[lang] = overall_percentages.get(lang, 0) + percentage / len(train_data)\n",
        "\n",
        "# Menampilkan hanya 3 teratas\n",
        "top_languages = dict(sorted(overall_percentages.items(), key=lambda item: item[1], reverse=True)[:3])\n",
        "\n",
        "print(\"Top 3 Bahasa:\")\n",
        "for lang, percentage in top_languages.items():\n",
        "    print(f\"{lang}: {percentage:.2f}%\")\n"
      ]
    },
    {
      "cell_type": "markdown",
      "metadata": {
        "id": "SjNTT2frlU3w"
      },
      "source": [
        "Identifikasi Bahasa Dalam Data Validation"
      ]
    },
    {
      "cell_type": "code",
      "execution_count": 42,
      "metadata": {
        "colab": {
          "base_uri": "https://localhost:8080/"
        },
        "id": "MKDxobUgjqlq",
        "outputId": "edd7aec4-deb6-4461-8197-2ea07e7157b8"
      },
      "outputs": [
        {
          "name": "stdout",
          "output_type": "stream",
          "text": [
            "Top 3 Bahasa:\n",
            "en: 74.00%\n",
            "id: 8.80%\n",
            "de: 3.08%\n"
          ]
        }
      ],
      "source": [
        "import langid\n",
        "import pandas as pd\n",
        "from collections import Counter\n",
        "\n",
        "def identify_language_percentage(text):\n",
        "    words = text.split()\n",
        "    languages = [langid.classify(word)[0] for word in words]\n",
        "\n",
        "    total_words = len(words)\n",
        "    language_counts = Counter(languages)\n",
        "    language_percentages = {lang: count / total_words * 100 for lang, count in language_counts.items()}\n",
        "\n",
        "    return language_percentages\n",
        "\n",
        "# Identifikasi bahasa dan tambahkan kolom persentase\n",
        "valid_data['language_percentages'] = valid_data['text'].apply(identify_language_percentage)\n",
        "\n",
        "# Menghitung rata-rata persentase untuk setiap bahasa\n",
        "overall_percentages = {}\n",
        "\n",
        "for _, row in valid_data.iterrows():\n",
        "    for lang, percentage in row['language_percentages'].items():\n",
        "        overall_percentages[lang] = overall_percentages.get(lang, 0) + percentage / len(valid_data)\n",
        "\n",
        "# Menampilkan hanya 3 teratas\n",
        "top_languages = dict(sorted(overall_percentages.items(), key=lambda item: item[1], reverse=True)[:3])\n",
        "\n",
        "print(\"Top 3 Bahasa:\")\n",
        "for lang, percentage in top_languages.items():\n",
        "    print(f\"{lang}: {percentage:.2f}%\")"
      ]
    },
    {
      "cell_type": "markdown",
      "metadata": {
        "id": "PeeB3UInkN8C"
      },
      "source": [
        "Berdasarkan identifikasi bahasa diatas didapatkan bahwa mayoritas bahasa yang digunakan terdiri dari kata dalam bahasa inggris dan bahasa indonesia. Oleh karena itu, akan dilakukan pemrosesan stopwords dengan menggunakan dua bahasa yaitu bahasa indonesia dan bahasa inggris (bilingual)"
      ]
    },
    {
      "cell_type": "markdown",
      "metadata": {
        "id": "ubB5LeQr4X-x"
      },
      "source": [
        "Identifikasi Stopwords Pada Data"
      ]
    },
    {
      "cell_type": "code",
      "execution_count": 43,
      "metadata": {
        "colab": {
          "base_uri": "https://localhost:8080/"
        },
        "id": "Cl-o4Y1O2PTQ",
        "outputId": "620b74b9-1884-43e8-bf93-3d21f7d97e59"
      },
      "outputs": [
        {
          "name": "stderr",
          "output_type": "stream",
          "text": [
            "[nltk_data] Downloading package stopwords to\n",
            "[nltk_data]     C:\\Users\\muham\\AppData\\Roaming\\nltk_data...\n",
            "[nltk_data]   Package stopwords is already up-to-date!\n"
          ]
        },
        {
          "data": {
            "text/html": [
              "<div>\n",
              "<style scoped>\n",
              "    .dataframe tbody tr th:only-of-type {\n",
              "        vertical-align: middle;\n",
              "    }\n",
              "\n",
              "    .dataframe tbody tr th {\n",
              "        vertical-align: top;\n",
              "    }\n",
              "\n",
              "    .dataframe thead th {\n",
              "        text-align: right;\n",
              "    }\n",
              "</style>\n",
              "<table border=\"1\" class=\"dataframe\">\n",
              "  <thead>\n",
              "    <tr style=\"text-align: right;\">\n",
              "      <th></th>\n",
              "      <th>text</th>\n",
              "      <th>mixed_language_words</th>\n",
              "      <th>label</th>\n",
              "    </tr>\n",
              "  </thead>\n",
              "  <tbody>\n",
              "    <tr>\n",
              "      <th>0</th>\n",
              "      <td>halo blibli sedikit saran untuk gratis ongkirn...</td>\n",
              "      <td>{'id': ['sedikit', 'untuk', 'yang', 'di', 'jad...</td>\n",
              "      <td>pos</td>\n",
              "    </tr>\n",
              "    <tr>\n",
              "      <th>1</th>\n",
              "      <td>so far so good respon cepat</td>\n",
              "      <td>{'id': [], 'en': ['so', 'so']}</td>\n",
              "      <td>pos</td>\n",
              "    </tr>\n",
              "    <tr>\n",
              "      <th>2</th>\n",
              "      <td>thank</td>\n",
              "      <td>{'id': [], 'en': []}</td>\n",
              "      <td>neg</td>\n",
              "    </tr>\n",
              "    <tr>\n",
              "      <th>3</th>\n",
              "      <td>aplikasi sering not responding di hp saya asus...</td>\n",
              "      <td>{'id': ['sering', 'di', 'saya'], 'en': ['not']}</td>\n",
              "      <td>neg</td>\n",
              "    </tr>\n",
              "    <tr>\n",
              "      <th>4</th>\n",
              "      <td>tidak ada komentar</td>\n",
              "      <td>{'id': ['tidak', 'ada'], 'en': []}</td>\n",
              "      <td>pos</td>\n",
              "    </tr>\n",
              "    <tr>\n",
              "      <th>...</th>\n",
              "      <td>...</td>\n",
              "      <td>...</td>\n",
              "      <td>...</td>\n",
              "    </tr>\n",
              "    <tr>\n",
              "      <th>5430</th>\n",
              "      <td>very useful</td>\n",
              "      <td>{'id': [], 'en': ['very']}</td>\n",
              "      <td>pos</td>\n",
              "    </tr>\n",
              "    <tr>\n",
              "      <th>5431</th>\n",
              "      <td>sip kejelasan pembayaran kejelasan stok barang</td>\n",
              "      <td>{'id': [], 'en': []}</td>\n",
              "      <td>pos</td>\n",
              "    </tr>\n",
              "    <tr>\n",
              "      <th>5432</th>\n",
              "      <td>senang belanja disini</td>\n",
              "      <td>{'id': ['disini'], 'en': []}</td>\n",
              "      <td>pos</td>\n",
              "    </tr>\n",
              "    <tr>\n",
              "      <th>5433</th>\n",
              "      <td>good application very helpfull and best price</td>\n",
              "      <td>{'id': [], 'en': ['very', 'and']}</td>\n",
              "      <td>pos</td>\n",
              "    </tr>\n",
              "    <tr>\n",
              "      <th>5434</th>\n",
              "      <td>tidak bisa simpan alamat pengiriman hasil keti...</td>\n",
              "      <td>{'id': ['tidak', 'bisa', 'saya', 'tidak', 'ket...</td>\n",
              "      <td>neg</td>\n",
              "    </tr>\n",
              "  </tbody>\n",
              "</table>\n",
              "<p>5435 rows × 3 columns</p>\n",
              "</div>"
            ],
            "text/plain": [
              "                                                   text  \\\n",
              "0     halo blibli sedikit saran untuk gratis ongkirn...   \n",
              "1                           so far so good respon cepat   \n",
              "2                                                 thank   \n",
              "3     aplikasi sering not responding di hp saya asus...   \n",
              "4                                    tidak ada komentar   \n",
              "...                                                 ...   \n",
              "5430                                        very useful   \n",
              "5431     sip kejelasan pembayaran kejelasan stok barang   \n",
              "5432                              senang belanja disini   \n",
              "5433      good application very helpfull and best price   \n",
              "5434  tidak bisa simpan alamat pengiriman hasil keti...   \n",
              "\n",
              "                                   mixed_language_words label  \n",
              "0     {'id': ['sedikit', 'untuk', 'yang', 'di', 'jad...   pos  \n",
              "1                        {'id': [], 'en': ['so', 'so']}   pos  \n",
              "2                                  {'id': [], 'en': []}   neg  \n",
              "3       {'id': ['sering', 'di', 'saya'], 'en': ['not']}   neg  \n",
              "4                    {'id': ['tidak', 'ada'], 'en': []}   pos  \n",
              "...                                                 ...   ...  \n",
              "5430                         {'id': [], 'en': ['very']}   pos  \n",
              "5431                               {'id': [], 'en': []}   pos  \n",
              "5432                       {'id': ['disini'], 'en': []}   pos  \n",
              "5433                  {'id': [], 'en': ['very', 'and']}   pos  \n",
              "5434  {'id': ['tidak', 'bisa', 'saya', 'tidak', 'ket...   neg  \n",
              "\n",
              "[5435 rows x 3 columns]"
            ]
          },
          "execution_count": 43,
          "metadata": {},
          "output_type": "execute_result"
        }
      ],
      "source": [
        "#Data Training\n",
        "import nltk\n",
        "from nltk.corpus import stopwords\n",
        "\n",
        "nltk.download('stopwords')\n",
        "stop_words_id = set(stopwords.words('indonesian'))\n",
        "stop_words_en = set(stopwords.words('english'))\n",
        "\n",
        "def identify_mixed_language_words(sentence):\n",
        "    words = sentence.split()\n",
        "\n",
        "    mixed_language_words = {\n",
        "        'id': [],\n",
        "        'en': []\n",
        "    }\n",
        "\n",
        "    for word in words:\n",
        "        if word.lower() in stop_words_id:\n",
        "            mixed_language_words['id'].append(word)\n",
        "        elif word.lower() in stop_words_en:\n",
        "            mixed_language_words['en'].append(word)\n",
        "\n",
        "    return mixed_language_words\n",
        "\n",
        "train_data['mixed_language_words'] = train_data['text'].apply(identify_mixed_language_words)\n",
        "train_data['mixed_language_words'] = train_data['text'].apply(identify_mixed_language_words)\n",
        "\n",
        "# Menampilkan hasil\n",
        "pd.options.display.max_columns = None\n",
        "train_data[['text', 'mixed_language_words', 'label']]"
      ]
    },
    {
      "cell_type": "code",
      "execution_count": 44,
      "metadata": {
        "colab": {
          "base_uri": "https://localhost:8080/"
        },
        "id": "35PAlLjyQkqz",
        "outputId": "075a772c-30a9-44c2-cfd6-5e8e5c42c5b8"
      },
      "outputs": [
        {
          "name": "stderr",
          "output_type": "stream",
          "text": [
            "[nltk_data] Downloading package stopwords to\n",
            "[nltk_data]     C:\\Users\\muham\\AppData\\Roaming\\nltk_data...\n",
            "[nltk_data]   Package stopwords is already up-to-date!\n"
          ]
        },
        {
          "data": {
            "text/html": [
              "<div>\n",
              "<style scoped>\n",
              "    .dataframe tbody tr th:only-of-type {\n",
              "        vertical-align: middle;\n",
              "    }\n",
              "\n",
              "    .dataframe tbody tr th {\n",
              "        vertical-align: top;\n",
              "    }\n",
              "\n",
              "    .dataframe thead th {\n",
              "        text-align: right;\n",
              "    }\n",
              "</style>\n",
              "<table border=\"1\" class=\"dataframe\">\n",
              "  <thead>\n",
              "    <tr style=\"text-align: right;\">\n",
              "      <th></th>\n",
              "      <th>text</th>\n",
              "      <th>mixed_language_words</th>\n",
              "      <th>label</th>\n",
              "    </tr>\n",
              "  </thead>\n",
              "  <tbody>\n",
              "    <tr>\n",
              "      <th>0</th>\n",
              "      <td>bagus</td>\n",
              "      <td>{'id': [], 'en': []}</td>\n",
              "      <td>pos</td>\n",
              "    </tr>\n",
              "    <tr>\n",
              "      <th>1</th>\n",
              "      <td>pengiriman gratis dan produk bervariasi</td>\n",
              "      <td>{'id': ['dan'], 'en': []}</td>\n",
              "      <td>pos</td>\n",
              "    </tr>\n",
              "    <tr>\n",
              "      <th>2</th>\n",
              "      <td>praktis dan mudah aplikasinya digunakan</td>\n",
              "      <td>{'id': ['dan', 'digunakan'], 'en': []}</td>\n",
              "      <td>pos</td>\n",
              "    </tr>\n",
              "    <tr>\n",
              "      <th>3</th>\n",
              "      <td>no comment</td>\n",
              "      <td>{'id': [], 'en': ['no']}</td>\n",
              "      <td>neg</td>\n",
              "    </tr>\n",
              "    <tr>\n",
              "      <th>4</th>\n",
              "      <td>aplikasi belanja online terbaik di indonesia s...</td>\n",
              "      <td>{'id': ['di', 'saat', 'ini'], 'en': []}</td>\n",
              "      <td>pos</td>\n",
              "    </tr>\n",
              "    <tr>\n",
              "      <th>...</th>\n",
              "      <td>...</td>\n",
              "      <td>...</td>\n",
              "      <td>...</td>\n",
              "    </tr>\n",
              "    <tr>\n",
              "      <th>2418</th>\n",
              "      <td>please add tracking system tambahkan fitur tra...</td>\n",
              "      <td>{'id': ['yang', 'dalam', 'dong'], 'en': []}</td>\n",
              "      <td>neg</td>\n",
              "    </tr>\n",
              "    <tr>\n",
              "      <th>2419</th>\n",
              "      <td>great app easy to use wide range of selections...</td>\n",
              "      <td>{'id': [], 'en': ['to', 'of']}</td>\n",
              "      <td>pos</td>\n",
              "    </tr>\n",
              "    <tr>\n",
              "      <th>2420</th>\n",
              "      <td>i dont know</td>\n",
              "      <td>{'id': [], 'en': ['i']}</td>\n",
              "      <td>neg</td>\n",
              "    </tr>\n",
              "    <tr>\n",
              "      <th>2421</th>\n",
              "      <td>quite great app</td>\n",
              "      <td>{'id': [], 'en': []}</td>\n",
              "      <td>pos</td>\n",
              "    </tr>\n",
              "    <tr>\n",
              "      <th>2422</th>\n",
              "      <td>barang original love it</td>\n",
              "      <td>{'id': [], 'en': ['it']}</td>\n",
              "      <td>pos</td>\n",
              "    </tr>\n",
              "  </tbody>\n",
              "</table>\n",
              "<p>2423 rows × 3 columns</p>\n",
              "</div>"
            ],
            "text/plain": [
              "                                                   text  \\\n",
              "0                                                 bagus   \n",
              "1               pengiriman gratis dan produk bervariasi   \n",
              "2               praktis dan mudah aplikasinya digunakan   \n",
              "3                                            no comment   \n",
              "4     aplikasi belanja online terbaik di indonesia s...   \n",
              "...                                                 ...   \n",
              "2418  please add tracking system tambahkan fitur tra...   \n",
              "2419  great app easy to use wide range of selections...   \n",
              "2420                                        i dont know   \n",
              "2421                                    quite great app   \n",
              "2422                            barang original love it   \n",
              "\n",
              "                             mixed_language_words label  \n",
              "0                            {'id': [], 'en': []}   pos  \n",
              "1                       {'id': ['dan'], 'en': []}   pos  \n",
              "2          {'id': ['dan', 'digunakan'], 'en': []}   pos  \n",
              "3                        {'id': [], 'en': ['no']}   neg  \n",
              "4         {'id': ['di', 'saat', 'ini'], 'en': []}   pos  \n",
              "...                                           ...   ...  \n",
              "2418  {'id': ['yang', 'dalam', 'dong'], 'en': []}   neg  \n",
              "2419               {'id': [], 'en': ['to', 'of']}   pos  \n",
              "2420                      {'id': [], 'en': ['i']}   neg  \n",
              "2421                         {'id': [], 'en': []}   pos  \n",
              "2422                     {'id': [], 'en': ['it']}   pos  \n",
              "\n",
              "[2423 rows x 3 columns]"
            ]
          },
          "execution_count": 44,
          "metadata": {},
          "output_type": "execute_result"
        }
      ],
      "source": [
        "#Data Validation\n",
        "import nltk\n",
        "from nltk.corpus import stopwords\n",
        "\n",
        "nltk.download('stopwords')\n",
        "stop_words_id = set(stopwords.words('indonesian'))\n",
        "stop_words_en = set(stopwords.words('english'))\n",
        "\n",
        "def identify_mixed_language_words(sentence):\n",
        "    words = sentence.split()\n",
        "\n",
        "    mixed_language_words = {\n",
        "        'id': [],\n",
        "        'en': []\n",
        "    }\n",
        "\n",
        "    for word in words:\n",
        "        if word.lower() in stop_words_id:\n",
        "            mixed_language_words['id'].append(word)\n",
        "        elif word.lower() in stop_words_en:\n",
        "            mixed_language_words['en'].append(word)\n",
        "\n",
        "    return mixed_language_words\n",
        "\n",
        "valid_data['mixed_language_words'] = valid_data['text'].apply(identify_mixed_language_words)\n",
        "valid_data['mixed_language_words'] = valid_data['text'].apply(identify_mixed_language_words)\n",
        "\n",
        "# Menampilkan hasil\n",
        "pd.options.display.max_columns = None\n",
        "valid_data[['text', 'mixed_language_words', 'label']]"
      ]
    },
    {
      "cell_type": "markdown",
      "metadata": {
        "id": "xsrnMz6qkpFY"
      },
      "source": [
        "Dari hasil identifikasi stopwords, didapatkan beberapa kata dari bahasa indonesia dan bahasa inggris yang selanjutnya kata tersebut akan dilakukan proses penghapusan"
      ]
    },
    {
      "cell_type": "markdown",
      "metadata": {
        "id": "XrSFUnMl5_IS"
      },
      "source": [
        "Stopword Removal"
      ]
    },
    {
      "cell_type": "code",
      "execution_count": 45,
      "metadata": {
        "colab": {
          "base_uri": "https://localhost:8080/"
        },
        "id": "TokFSJKT359u",
        "outputId": "f140e947-c429-4039-94e2-52db17680057"
      },
      "outputs": [
        {
          "data": {
            "text/html": [
              "<div>\n",
              "<style scoped>\n",
              "    .dataframe tbody tr th:only-of-type {\n",
              "        vertical-align: middle;\n",
              "    }\n",
              "\n",
              "    .dataframe tbody tr th {\n",
              "        vertical-align: top;\n",
              "    }\n",
              "\n",
              "    .dataframe thead th {\n",
              "        text-align: right;\n",
              "    }\n",
              "</style>\n",
              "<table border=\"1\" class=\"dataframe\">\n",
              "  <thead>\n",
              "    <tr style=\"text-align: right;\">\n",
              "      <th></th>\n",
              "      <th>text</th>\n",
              "      <th>mixed_language_words</th>\n",
              "      <th>cleaned_text</th>\n",
              "      <th>label</th>\n",
              "    </tr>\n",
              "  </thead>\n",
              "  <tbody>\n",
              "    <tr>\n",
              "      <th>0</th>\n",
              "      <td>halo blibli sedikit saran untuk gratis ongkirn...</td>\n",
              "      <td>{'id': ['sedikit', 'untuk', 'yang', 'di', 'jad...</td>\n",
              "      <td>halo blibli saran gratis ongkirnya minimum 200...</td>\n",
              "      <td>pos</td>\n",
              "    </tr>\n",
              "    <tr>\n",
              "      <th>1</th>\n",
              "      <td>so far so good respon cepat</td>\n",
              "      <td>{'id': [], 'en': ['so', 'so']}</td>\n",
              "      <td>far good respon cepat</td>\n",
              "      <td>pos</td>\n",
              "    </tr>\n",
              "    <tr>\n",
              "      <th>2</th>\n",
              "      <td>thank</td>\n",
              "      <td>{'id': [], 'en': []}</td>\n",
              "      <td>thank</td>\n",
              "      <td>neg</td>\n",
              "    </tr>\n",
              "    <tr>\n",
              "      <th>3</th>\n",
              "      <td>aplikasi sering not responding di hp saya asus...</td>\n",
              "      <td>{'id': ['sering', 'di', 'saya'], 'en': ['not']}</td>\n",
              "      <td>aplikasi responding hp asus zenfone t001f</td>\n",
              "      <td>neg</td>\n",
              "    </tr>\n",
              "    <tr>\n",
              "      <th>4</th>\n",
              "      <td>tidak ada komentar</td>\n",
              "      <td>{'id': ['tidak', 'ada'], 'en': []}</td>\n",
              "      <td>komentar</td>\n",
              "      <td>pos</td>\n",
              "    </tr>\n",
              "    <tr>\n",
              "      <th>...</th>\n",
              "      <td>...</td>\n",
              "      <td>...</td>\n",
              "      <td>...</td>\n",
              "      <td>...</td>\n",
              "    </tr>\n",
              "    <tr>\n",
              "      <th>5430</th>\n",
              "      <td>very useful</td>\n",
              "      <td>{'id': [], 'en': ['very']}</td>\n",
              "      <td>useful</td>\n",
              "      <td>pos</td>\n",
              "    </tr>\n",
              "    <tr>\n",
              "      <th>5431</th>\n",
              "      <td>sip kejelasan pembayaran kejelasan stok barang</td>\n",
              "      <td>{'id': [], 'en': []}</td>\n",
              "      <td>sip kejelasan pembayaran kejelasan stok barang</td>\n",
              "      <td>pos</td>\n",
              "    </tr>\n",
              "    <tr>\n",
              "      <th>5432</th>\n",
              "      <td>senang belanja disini</td>\n",
              "      <td>{'id': ['disini'], 'en': []}</td>\n",
              "      <td>senang belanja</td>\n",
              "      <td>pos</td>\n",
              "    </tr>\n",
              "    <tr>\n",
              "      <th>5433</th>\n",
              "      <td>good application very helpfull and best price</td>\n",
              "      <td>{'id': [], 'en': ['very', 'and']}</td>\n",
              "      <td>good application helpfull best price</td>\n",
              "      <td>pos</td>\n",
              "    </tr>\n",
              "    <tr>\n",
              "      <th>5434</th>\n",
              "      <td>tidak bisa simpan alamat pengiriman hasil keti...</td>\n",
              "      <td>{'id': ['tidak', 'bisa', 'saya', 'tidak', 'ket...</td>\n",
              "      <td>simpan alamat pengiriman hasil ketikan muncul ...</td>\n",
              "      <td>neg</td>\n",
              "    </tr>\n",
              "  </tbody>\n",
              "</table>\n",
              "<p>5435 rows × 4 columns</p>\n",
              "</div>"
            ],
            "text/plain": [
              "                                                   text  \\\n",
              "0     halo blibli sedikit saran untuk gratis ongkirn...   \n",
              "1                           so far so good respon cepat   \n",
              "2                                                 thank   \n",
              "3     aplikasi sering not responding di hp saya asus...   \n",
              "4                                    tidak ada komentar   \n",
              "...                                                 ...   \n",
              "5430                                        very useful   \n",
              "5431     sip kejelasan pembayaran kejelasan stok barang   \n",
              "5432                              senang belanja disini   \n",
              "5433      good application very helpfull and best price   \n",
              "5434  tidak bisa simpan alamat pengiriman hasil keti...   \n",
              "\n",
              "                                   mixed_language_words  \\\n",
              "0     {'id': ['sedikit', 'untuk', 'yang', 'di', 'jad...   \n",
              "1                        {'id': [], 'en': ['so', 'so']}   \n",
              "2                                  {'id': [], 'en': []}   \n",
              "3       {'id': ['sering', 'di', 'saya'], 'en': ['not']}   \n",
              "4                    {'id': ['tidak', 'ada'], 'en': []}   \n",
              "...                                                 ...   \n",
              "5430                         {'id': [], 'en': ['very']}   \n",
              "5431                               {'id': [], 'en': []}   \n",
              "5432                       {'id': ['disini'], 'en': []}   \n",
              "5433                  {'id': [], 'en': ['very', 'and']}   \n",
              "5434  {'id': ['tidak', 'bisa', 'saya', 'tidak', 'ket...   \n",
              "\n",
              "                                           cleaned_text label  \n",
              "0     halo blibli saran gratis ongkirnya minimum 200...   pos  \n",
              "1                                 far good respon cepat   pos  \n",
              "2                                                 thank   neg  \n",
              "3             aplikasi responding hp asus zenfone t001f   neg  \n",
              "4                                              komentar   pos  \n",
              "...                                                 ...   ...  \n",
              "5430                                             useful   pos  \n",
              "5431     sip kejelasan pembayaran kejelasan stok barang   pos  \n",
              "5432                                     senang belanja   pos  \n",
              "5433               good application helpfull best price   pos  \n",
              "5434  simpan alamat pengiriman hasil ketikan muncul ...   neg  \n",
              "\n",
              "[5435 rows x 4 columns]"
            ]
          },
          "execution_count": 45,
          "metadata": {},
          "output_type": "execute_result"
        }
      ],
      "source": [
        "#Data Training\n",
        "def remove_detected_words(row):\n",
        "    text_words = row['text'].split()\n",
        "    detected_id_words = row['mixed_language_words']['id']\n",
        "    detected_en_words = row['mixed_language_words']['en']\n",
        "\n",
        "    cleaned_text = ' '.join([word for word in text_words if word.lower() not in detected_id_words and word.lower() not in detected_en_words])\n",
        "\n",
        "    return cleaned_text\n",
        "\n",
        "# Menerapkan fungsi ke seluruh DataFrame\n",
        "train_data['cleaned_text'] = train_data.apply(remove_detected_words, axis=1)\n",
        "\n",
        "train_data[['text', 'mixed_language_words', 'cleaned_text', 'label']]"
      ]
    },
    {
      "cell_type": "code",
      "execution_count": 46,
      "metadata": {
        "colab": {
          "base_uri": "https://localhost:8080/"
        },
        "id": "gFDSLbHnQ9ex",
        "outputId": "e70308dc-7869-4620-dc66-b152723c33e9"
      },
      "outputs": [
        {
          "data": {
            "text/html": [
              "<div>\n",
              "<style scoped>\n",
              "    .dataframe tbody tr th:only-of-type {\n",
              "        vertical-align: middle;\n",
              "    }\n",
              "\n",
              "    .dataframe tbody tr th {\n",
              "        vertical-align: top;\n",
              "    }\n",
              "\n",
              "    .dataframe thead th {\n",
              "        text-align: right;\n",
              "    }\n",
              "</style>\n",
              "<table border=\"1\" class=\"dataframe\">\n",
              "  <thead>\n",
              "    <tr style=\"text-align: right;\">\n",
              "      <th></th>\n",
              "      <th>text</th>\n",
              "      <th>mixed_language_words</th>\n",
              "      <th>cleaned_text</th>\n",
              "      <th>label</th>\n",
              "    </tr>\n",
              "  </thead>\n",
              "  <tbody>\n",
              "    <tr>\n",
              "      <th>0</th>\n",
              "      <td>bagus</td>\n",
              "      <td>{'id': [], 'en': []}</td>\n",
              "      <td>bagus</td>\n",
              "      <td>pos</td>\n",
              "    </tr>\n",
              "    <tr>\n",
              "      <th>1</th>\n",
              "      <td>pengiriman gratis dan produk bervariasi</td>\n",
              "      <td>{'id': ['dan'], 'en': []}</td>\n",
              "      <td>pengiriman gratis produk bervariasi</td>\n",
              "      <td>pos</td>\n",
              "    </tr>\n",
              "    <tr>\n",
              "      <th>2</th>\n",
              "      <td>praktis dan mudah aplikasinya digunakan</td>\n",
              "      <td>{'id': ['dan', 'digunakan'], 'en': []}</td>\n",
              "      <td>praktis mudah aplikasinya</td>\n",
              "      <td>pos</td>\n",
              "    </tr>\n",
              "    <tr>\n",
              "      <th>3</th>\n",
              "      <td>no comment</td>\n",
              "      <td>{'id': [], 'en': ['no']}</td>\n",
              "      <td>comment</td>\n",
              "      <td>neg</td>\n",
              "    </tr>\n",
              "    <tr>\n",
              "      <th>4</th>\n",
              "      <td>aplikasi belanja online terbaik di indonesia s...</td>\n",
              "      <td>{'id': ['di', 'saat', 'ini'], 'en': []}</td>\n",
              "      <td>aplikasi belanja online terbaik indonesia</td>\n",
              "      <td>pos</td>\n",
              "    </tr>\n",
              "    <tr>\n",
              "      <th>...</th>\n",
              "      <td>...</td>\n",
              "      <td>...</td>\n",
              "      <td>...</td>\n",
              "      <td>...</td>\n",
              "    </tr>\n",
              "    <tr>\n",
              "      <th>2418</th>\n",
              "      <td>please add tracking system tambahkan fitur tra...</td>\n",
              "      <td>{'id': ['yang', 'dalam', 'dong'], 'en': []}</td>\n",
              "      <td>please add tracking system tambahkan fitur tra...</td>\n",
              "      <td>neg</td>\n",
              "    </tr>\n",
              "    <tr>\n",
              "      <th>2419</th>\n",
              "      <td>great app easy to use wide range of selections...</td>\n",
              "      <td>{'id': [], 'en': ['to', 'of']}</td>\n",
              "      <td>great app easy use wide range selections free ...</td>\n",
              "      <td>pos</td>\n",
              "    </tr>\n",
              "    <tr>\n",
              "      <th>2420</th>\n",
              "      <td>i dont know</td>\n",
              "      <td>{'id': [], 'en': ['i']}</td>\n",
              "      <td>dont know</td>\n",
              "      <td>neg</td>\n",
              "    </tr>\n",
              "    <tr>\n",
              "      <th>2421</th>\n",
              "      <td>quite great app</td>\n",
              "      <td>{'id': [], 'en': []}</td>\n",
              "      <td>quite great app</td>\n",
              "      <td>pos</td>\n",
              "    </tr>\n",
              "    <tr>\n",
              "      <th>2422</th>\n",
              "      <td>barang original love it</td>\n",
              "      <td>{'id': [], 'en': ['it']}</td>\n",
              "      <td>barang original love</td>\n",
              "      <td>pos</td>\n",
              "    </tr>\n",
              "  </tbody>\n",
              "</table>\n",
              "<p>2423 rows × 4 columns</p>\n",
              "</div>"
            ],
            "text/plain": [
              "                                                   text  \\\n",
              "0                                                 bagus   \n",
              "1               pengiriman gratis dan produk bervariasi   \n",
              "2               praktis dan mudah aplikasinya digunakan   \n",
              "3                                            no comment   \n",
              "4     aplikasi belanja online terbaik di indonesia s...   \n",
              "...                                                 ...   \n",
              "2418  please add tracking system tambahkan fitur tra...   \n",
              "2419  great app easy to use wide range of selections...   \n",
              "2420                                        i dont know   \n",
              "2421                                    quite great app   \n",
              "2422                            barang original love it   \n",
              "\n",
              "                             mixed_language_words  \\\n",
              "0                            {'id': [], 'en': []}   \n",
              "1                       {'id': ['dan'], 'en': []}   \n",
              "2          {'id': ['dan', 'digunakan'], 'en': []}   \n",
              "3                        {'id': [], 'en': ['no']}   \n",
              "4         {'id': ['di', 'saat', 'ini'], 'en': []}   \n",
              "...                                           ...   \n",
              "2418  {'id': ['yang', 'dalam', 'dong'], 'en': []}   \n",
              "2419               {'id': [], 'en': ['to', 'of']}   \n",
              "2420                      {'id': [], 'en': ['i']}   \n",
              "2421                         {'id': [], 'en': []}   \n",
              "2422                     {'id': [], 'en': ['it']}   \n",
              "\n",
              "                                           cleaned_text label  \n",
              "0                                                 bagus   pos  \n",
              "1                   pengiriman gratis produk bervariasi   pos  \n",
              "2                             praktis mudah aplikasinya   pos  \n",
              "3                                               comment   neg  \n",
              "4             aplikasi belanja online terbaik indonesia   pos  \n",
              "...                                                 ...   ...  \n",
              "2418  please add tracking system tambahkan fitur tra...   neg  \n",
              "2419  great app easy use wide range selections free ...   pos  \n",
              "2420                                          dont know   neg  \n",
              "2421                                    quite great app   pos  \n",
              "2422                               barang original love   pos  \n",
              "\n",
              "[2423 rows x 4 columns]"
            ]
          },
          "execution_count": 46,
          "metadata": {},
          "output_type": "execute_result"
        }
      ],
      "source": [
        "#Data Validation\n",
        "def remove_detected_words(row):\n",
        "    text_words = row['text'].split()\n",
        "    detected_id_words = row['mixed_language_words']['id']\n",
        "    detected_en_words = row['mixed_language_words']['en']\n",
        "\n",
        "    cleaned_text = ' '.join([word for word in text_words if word.lower() not in detected_id_words and word.lower() not in detected_en_words])\n",
        "\n",
        "    return cleaned_text\n",
        "\n",
        "# Menerapkan fungsi ke seluruh DataFrame\n",
        "valid_data['cleaned_text'] = valid_data.apply(remove_detected_words, axis=1)\n",
        "\n",
        "valid_data[['text', 'mixed_language_words', 'cleaned_text', 'label']]"
      ]
    },
    {
      "cell_type": "markdown",
      "metadata": {
        "id": "K2p0aViIk7Z3"
      },
      "source": [
        "Bisa dilihat data hasil dari proses \"Removal Stopwords\", kalimat ulasan akan menjadi ramping, menghiraukan kata-kata yang tidak mempunyai informasi signifikan"
      ]
    },
    {
      "cell_type": "markdown",
      "metadata": {
        "id": "7Y_UamCBlqzE"
      },
      "source": [
        "Identifikasi Nilai yang hilang pada Baris data setelah dilakukan proses Removal Stopwords"
      ]
    },
    {
      "cell_type": "code",
      "execution_count": 47,
      "metadata": {
        "colab": {
          "base_uri": "https://localhost:8080/"
        },
        "id": "u-j7CK-njZKh",
        "outputId": "ece17419-eec4-4896-8519-24594b8b128d"
      },
      "outputs": [
        {
          "data": {
            "text/html": [
              "<div>\n",
              "<style scoped>\n",
              "    .dataframe tbody tr th:only-of-type {\n",
              "        vertical-align: middle;\n",
              "    }\n",
              "\n",
              "    .dataframe tbody tr th {\n",
              "        vertical-align: top;\n",
              "    }\n",
              "\n",
              "    .dataframe thead th {\n",
              "        text-align: right;\n",
              "    }\n",
              "</style>\n",
              "<table border=\"1\" class=\"dataframe\">\n",
              "  <thead>\n",
              "    <tr style=\"text-align: right;\">\n",
              "      <th></th>\n",
              "      <th>text</th>\n",
              "      <th>label</th>\n",
              "      <th>language_percentages</th>\n",
              "      <th>mixed_language_words</th>\n",
              "      <th>cleaned_text</th>\n",
              "    </tr>\n",
              "  </thead>\n",
              "  <tbody>\n",
              "    <tr>\n",
              "      <th>1261</th>\n",
              "      <td>tidak tidak</td>\n",
              "      <td>neg</td>\n",
              "      <td>{'id': 100.0}</td>\n",
              "      <td>{'id': ['tidak', 'tidak'], 'en': []}</td>\n",
              "      <td></td>\n",
              "    </tr>\n",
              "    <tr>\n",
              "      <th>1462</th>\n",
              "      <td>baru</td>\n",
              "      <td>neg</td>\n",
              "      <td>{'en': 100.0}</td>\n",
              "      <td>{'id': ['baru'], 'en': []}</td>\n",
              "      <td></td>\n",
              "    </tr>\n",
              "    <tr>\n",
              "      <th>1837</th>\n",
              "      <td>d</td>\n",
              "      <td>pos</td>\n",
              "      <td>{'en': 100.0}</td>\n",
              "      <td>{'id': [], 'en': ['d']}</td>\n",
              "      <td></td>\n",
              "    </tr>\n",
              "    <tr>\n",
              "      <th>2019</th>\n",
              "      <td>apa saja ada kok</td>\n",
              "      <td>pos</td>\n",
              "      <td>{'en': 75.0, 'fi': 25.0}</td>\n",
              "      <td>{'id': ['apa', 'saja', 'ada', 'kok'], 'en': []}</td>\n",
              "      <td></td>\n",
              "    </tr>\n",
              "    <tr>\n",
              "      <th>2545</th>\n",
              "      <td>the</td>\n",
              "      <td>pos</td>\n",
              "      <td>{'en': 100.0}</td>\n",
              "      <td>{'id': [], 'en': ['the']}</td>\n",
              "      <td></td>\n",
              "    </tr>\n",
              "    <tr>\n",
              "      <th>2673</th>\n",
              "      <td>why</td>\n",
              "      <td>neg</td>\n",
              "      <td>{'en': 100.0}</td>\n",
              "      <td>{'id': [], 'en': ['why']}</td>\n",
              "      <td></td>\n",
              "    </tr>\n",
              "    <tr>\n",
              "      <th>3368</th>\n",
              "      <td>so so</td>\n",
              "      <td>neg</td>\n",
              "      <td>{'en': 100.0}</td>\n",
              "      <td>{'id': [], 'en': ['so', 'so']}</td>\n",
              "      <td></td>\n",
              "    </tr>\n",
              "    <tr>\n",
              "      <th>3377</th>\n",
              "      <td>luar biasa</td>\n",
              "      <td>pos</td>\n",
              "      <td>{'en': 50.0, 'es': 50.0}</td>\n",
              "      <td>{'id': ['luar', 'biasa'], 'en': []}</td>\n",
              "      <td></td>\n",
              "    </tr>\n",
              "    <tr>\n",
              "      <th>4799</th>\n",
              "      <td>biasa saja</td>\n",
              "      <td>pos</td>\n",
              "      <td>{'es': 50.0, 'en': 50.0}</td>\n",
              "      <td>{'id': ['biasa', 'saja'], 'en': []}</td>\n",
              "      <td></td>\n",
              "    </tr>\n",
              "    <tr>\n",
              "      <th>5123</th>\n",
              "      <td>more</td>\n",
              "      <td>pos</td>\n",
              "      <td>{'en': 100.0}</td>\n",
              "      <td>{'id': [], 'en': ['more']}</td>\n",
              "      <td></td>\n",
              "    </tr>\n",
              "    <tr>\n",
              "      <th>5242</th>\n",
              "      <td>sangat baik</td>\n",
              "      <td>pos</td>\n",
              "      <td>{'id': 50.0, 'lt': 50.0}</td>\n",
              "      <td>{'id': ['sangat', 'baik'], 'en': []}</td>\n",
              "      <td></td>\n",
              "    </tr>\n",
              "  </tbody>\n",
              "</table>\n",
              "</div>"
            ],
            "text/plain": [
              "                  text label      language_percentages  \\\n",
              "1261       tidak tidak   neg             {'id': 100.0}   \n",
              "1462              baru   neg             {'en': 100.0}   \n",
              "1837                 d   pos             {'en': 100.0}   \n",
              "2019  apa saja ada kok   pos  {'en': 75.0, 'fi': 25.0}   \n",
              "2545               the   pos             {'en': 100.0}   \n",
              "2673               why   neg             {'en': 100.0}   \n",
              "3368             so so   neg             {'en': 100.0}   \n",
              "3377        luar biasa   pos  {'en': 50.0, 'es': 50.0}   \n",
              "4799        biasa saja   pos  {'es': 50.0, 'en': 50.0}   \n",
              "5123              more   pos             {'en': 100.0}   \n",
              "5242       sangat baik   pos  {'id': 50.0, 'lt': 50.0}   \n",
              "\n",
              "                                 mixed_language_words cleaned_text  \n",
              "1261             {'id': ['tidak', 'tidak'], 'en': []}               \n",
              "1462                       {'id': ['baru'], 'en': []}               \n",
              "1837                          {'id': [], 'en': ['d']}               \n",
              "2019  {'id': ['apa', 'saja', 'ada', 'kok'], 'en': []}               \n",
              "2545                        {'id': [], 'en': ['the']}               \n",
              "2673                        {'id': [], 'en': ['why']}               \n",
              "3368                   {'id': [], 'en': ['so', 'so']}               \n",
              "3377              {'id': ['luar', 'biasa'], 'en': []}               \n",
              "4799              {'id': ['biasa', 'saja'], 'en': []}               \n",
              "5123                       {'id': [], 'en': ['more']}               \n",
              "5242             {'id': ['sangat', 'baik'], 'en': []}               "
            ]
          },
          "execution_count": 47,
          "metadata": {},
          "output_type": "execute_result"
        }
      ],
      "source": [
        "train_data[train_data['cleaned_text']=='']"
      ]
    },
    {
      "cell_type": "code",
      "execution_count": 48,
      "metadata": {
        "colab": {
          "base_uri": "https://localhost:8080/"
        },
        "id": "IPjQwe5Kk0S5",
        "outputId": "8b4be967-0210-4399-b070-62efe0fb523a"
      },
      "outputs": [
        {
          "data": {
            "text/html": [
              "<div>\n",
              "<style scoped>\n",
              "    .dataframe tbody tr th:only-of-type {\n",
              "        vertical-align: middle;\n",
              "    }\n",
              "\n",
              "    .dataframe tbody tr th {\n",
              "        vertical-align: top;\n",
              "    }\n",
              "\n",
              "    .dataframe thead th {\n",
              "        text-align: right;\n",
              "    }\n",
              "</style>\n",
              "<table border=\"1\" class=\"dataframe\">\n",
              "  <thead>\n",
              "    <tr style=\"text-align: right;\">\n",
              "      <th></th>\n",
              "      <th>text</th>\n",
              "      <th>label</th>\n",
              "      <th>language_percentages</th>\n",
              "      <th>mixed_language_words</th>\n",
              "      <th>cleaned_text</th>\n",
              "    </tr>\n",
              "  </thead>\n",
              "  <tbody>\n",
              "    <tr>\n",
              "      <th>96</th>\n",
              "      <td>just so so</td>\n",
              "      <td>pos</td>\n",
              "      <td>{'en': 100.0}</td>\n",
              "      <td>{'id': [], 'en': ['just', 'so', 'so']}</td>\n",
              "      <td></td>\n",
              "    </tr>\n",
              "    <tr>\n",
              "      <th>159</th>\n",
              "      <td>aku</td>\n",
              "      <td>pos</td>\n",
              "      <td>{'en': 100.0}</td>\n",
              "      <td>{'id': ['aku'], 'en': []}</td>\n",
              "      <td></td>\n",
              "    </tr>\n",
              "    <tr>\n",
              "      <th>441</th>\n",
              "      <td>baik</td>\n",
              "      <td>pos</td>\n",
              "      <td>{'lt': 100.0}</td>\n",
              "      <td>{'id': ['baik'], 'en': []}</td>\n",
              "      <td></td>\n",
              "    </tr>\n",
              "    <tr>\n",
              "      <th>737</th>\n",
              "      <td>no</td>\n",
              "      <td>neg</td>\n",
              "      <td>{'en': 100.0}</td>\n",
              "      <td>{'id': [], 'en': ['no']}</td>\n",
              "      <td></td>\n",
              "    </tr>\n",
              "    <tr>\n",
              "      <th>845</th>\n",
              "      <td>cukup baik</td>\n",
              "      <td>pos</td>\n",
              "      <td>{'fi': 50.0, 'lt': 50.0}</td>\n",
              "      <td>{'id': ['cukup', 'baik'], 'en': []}</td>\n",
              "      <td></td>\n",
              "    </tr>\n",
              "    <tr>\n",
              "      <th>1178</th>\n",
              "      <td>so so</td>\n",
              "      <td>neg</td>\n",
              "      <td>{'en': 100.0}</td>\n",
              "      <td>{'id': [], 'en': ['so', 'so']}</td>\n",
              "      <td></td>\n",
              "    </tr>\n",
              "    <tr>\n",
              "      <th>1596</th>\n",
              "      <td>so so</td>\n",
              "      <td>pos</td>\n",
              "      <td>{'en': 100.0}</td>\n",
              "      <td>{'id': [], 'en': ['so', 'so']}</td>\n",
              "      <td></td>\n",
              "    </tr>\n",
              "    <tr>\n",
              "      <th>1831</th>\n",
              "      <td>luar biasa</td>\n",
              "      <td>pos</td>\n",
              "      <td>{'en': 50.0, 'es': 50.0}</td>\n",
              "      <td>{'id': ['luar', 'biasa'], 'en': []}</td>\n",
              "      <td></td>\n",
              "    </tr>\n",
              "    <tr>\n",
              "      <th>1887</th>\n",
              "      <td>sejauh ini tidak ada masalah</td>\n",
              "      <td>pos</td>\n",
              "      <td>{'et': 20.0, 'en': 40.0, 'id': 40.0}</td>\n",
              "      <td>{'id': ['sejauh', 'ini', 'tidak', 'ada', 'masa...</td>\n",
              "      <td></td>\n",
              "    </tr>\n",
              "    <tr>\n",
              "      <th>2175</th>\n",
              "      <td>semakin lebih baik</td>\n",
              "      <td>pos</td>\n",
              "      <td>{'en': 33.33333333333333, 'sl': 33.33333333333...</td>\n",
              "      <td>{'id': ['semakin', 'lebih', 'baik'], 'en': []}</td>\n",
              "      <td></td>\n",
              "    </tr>\n",
              "    <tr>\n",
              "      <th>2395</th>\n",
              "      <td>semua ada di sini</td>\n",
              "      <td>pos</td>\n",
              "      <td>{'en': 100.0}</td>\n",
              "      <td>{'id': ['semua', 'ada', 'di', 'sini'], 'en': []}</td>\n",
              "      <td></td>\n",
              "    </tr>\n",
              "  </tbody>\n",
              "</table>\n",
              "</div>"
            ],
            "text/plain": [
              "                              text label  \\\n",
              "96                      just so so   pos   \n",
              "159                            aku   pos   \n",
              "441                           baik   pos   \n",
              "737                             no   neg   \n",
              "845                     cukup baik   pos   \n",
              "1178                         so so   neg   \n",
              "1596                         so so   pos   \n",
              "1831                    luar biasa   pos   \n",
              "1887  sejauh ini tidak ada masalah   pos   \n",
              "2175            semakin lebih baik   pos   \n",
              "2395             semua ada di sini   pos   \n",
              "\n",
              "                                   language_percentages  \\\n",
              "96                                        {'en': 100.0}   \n",
              "159                                       {'en': 100.0}   \n",
              "441                                       {'lt': 100.0}   \n",
              "737                                       {'en': 100.0}   \n",
              "845                            {'fi': 50.0, 'lt': 50.0}   \n",
              "1178                                      {'en': 100.0}   \n",
              "1596                                      {'en': 100.0}   \n",
              "1831                           {'en': 50.0, 'es': 50.0}   \n",
              "1887               {'et': 20.0, 'en': 40.0, 'id': 40.0}   \n",
              "2175  {'en': 33.33333333333333, 'sl': 33.33333333333...   \n",
              "2395                                      {'en': 100.0}   \n",
              "\n",
              "                                   mixed_language_words cleaned_text  \n",
              "96               {'id': [], 'en': ['just', 'so', 'so']}               \n",
              "159                           {'id': ['aku'], 'en': []}               \n",
              "441                          {'id': ['baik'], 'en': []}               \n",
              "737                            {'id': [], 'en': ['no']}               \n",
              "845                 {'id': ['cukup', 'baik'], 'en': []}               \n",
              "1178                     {'id': [], 'en': ['so', 'so']}               \n",
              "1596                     {'id': [], 'en': ['so', 'so']}               \n",
              "1831                {'id': ['luar', 'biasa'], 'en': []}               \n",
              "1887  {'id': ['sejauh', 'ini', 'tidak', 'ada', 'masa...               \n",
              "2175     {'id': ['semakin', 'lebih', 'baik'], 'en': []}               \n",
              "2395   {'id': ['semua', 'ada', 'di', 'sini'], 'en': []}               "
            ]
          },
          "execution_count": 48,
          "metadata": {},
          "output_type": "execute_result"
        }
      ],
      "source": [
        "valid_data[valid_data['cleaned_text']=='']"
      ]
    },
    {
      "cell_type": "markdown",
      "metadata": {
        "id": "8v4987LBlpYJ"
      },
      "source": [
        "Berdasarkan hasil identifikasi, didapatkan bahwa terdapat baris data yang tidak memiliki nilai  pada kolom ulasan sebagai akibat proses \"Removal Stopwords\" dimana baris data yang tidak memiliki nilai tersebut berisi ulasan yang terdiri dari kalimat atau kata Stopwords. Oleh karena itu perlu dilakukan penghapusan baris data"
      ]
    },
    {
      "cell_type": "code",
      "execution_count": 49,
      "metadata": {
        "id": "htiU1T7_l4VE"
      },
      "outputs": [],
      "source": [
        "def remove_data_with_spaces2(row):\n",
        "    return row['cleaned_text'].strip() != ''\n",
        "train_data = train_data[train_data.apply(remove_data_with_spaces2, axis=1)]\n",
        "valid_data = valid_data[valid_data.apply(remove_data_with_spaces2, axis=1)]\n",
        "\n",
        "train_data = train_data.reset_index(drop=True)\n",
        "valid_data = valid_data.reset_index(drop=True)"
      ]
    },
    {
      "cell_type": "markdown",
      "metadata": {
        "id": "lI7ufImrOsPv"
      },
      "source": [
        "### Tokenisasi"
      ]
    },
    {
      "cell_type": "markdown",
      "metadata": {
        "id": "BcKX-svWqUJl"
      },
      "source": [
        "Tokenisasi adalah proses memecah suatu teks atau dokumen menjadi unit-unit kecil yang lebih kecil, yang disebut token. Token dapat berupa kata-kata, frasa, atau simbol-simbol tertentu yang memiliki makna dalam konteks bahasa atau tugas pemrosesan teks. Tokenisasi akan dilakukan sebelum dilakukan proses stemming"
      ]
    },
    {
      "cell_type": "code",
      "execution_count": 50,
      "metadata": {
        "colab": {
          "base_uri": "https://localhost:8080/"
        },
        "id": "6sfty899Ovem",
        "outputId": "7eed5776-a4ab-4676-dd07-fd4964dd1224"
      },
      "outputs": [
        {
          "name": "stderr",
          "output_type": "stream",
          "text": [
            "[nltk_data] Downloading package punkt to\n",
            "[nltk_data]     C:\\Users\\muham\\AppData\\Roaming\\nltk_data...\n",
            "[nltk_data]   Package punkt is already up-to-date!\n"
          ]
        }
      ],
      "source": [
        "import nltk\n",
        "from nltk.tokenize import word_tokenize\n",
        "\n",
        "nltk.download('punkt')\n",
        "\n",
        "train_data['Token Kata'] = train_data['cleaned_text'].apply(lambda x: word_tokenize(x))\n",
        "valid_data['Token Kata'] = valid_data['cleaned_text'].apply(lambda x: word_tokenize(x))"
      ]
    },
    {
      "cell_type": "code",
      "execution_count": 51,
      "metadata": {
        "colab": {
          "base_uri": "https://localhost:8080/",
          "height": 206
        },
        "id": "Y9VCErw3Ph8m",
        "outputId": "14298f95-9437-44f8-9b56-15a72d7e0074"
      },
      "outputs": [
        {
          "data": {
            "text/html": [
              "<div>\n",
              "<style scoped>\n",
              "    .dataframe tbody tr th:only-of-type {\n",
              "        vertical-align: middle;\n",
              "    }\n",
              "\n",
              "    .dataframe tbody tr th {\n",
              "        vertical-align: top;\n",
              "    }\n",
              "\n",
              "    .dataframe thead th {\n",
              "        text-align: right;\n",
              "    }\n",
              "</style>\n",
              "<table border=\"1\" class=\"dataframe\">\n",
              "  <thead>\n",
              "    <tr style=\"text-align: right;\">\n",
              "      <th></th>\n",
              "      <th>cleaned_text</th>\n",
              "      <th>Token Kata</th>\n",
              "      <th>label</th>\n",
              "    </tr>\n",
              "  </thead>\n",
              "  <tbody>\n",
              "    <tr>\n",
              "      <th>0</th>\n",
              "      <td>halo blibli saran gratis ongkirnya minimum 200...</td>\n",
              "      <td>[halo, blibli, saran, gratis, ongkirnya, minim...</td>\n",
              "      <td>pos</td>\n",
              "    </tr>\n",
              "    <tr>\n",
              "      <th>1</th>\n",
              "      <td>far good respon cepat</td>\n",
              "      <td>[far, good, respon, cepat]</td>\n",
              "      <td>pos</td>\n",
              "    </tr>\n",
              "    <tr>\n",
              "      <th>2</th>\n",
              "      <td>thank</td>\n",
              "      <td>[thank]</td>\n",
              "      <td>neg</td>\n",
              "    </tr>\n",
              "    <tr>\n",
              "      <th>3</th>\n",
              "      <td>aplikasi responding hp asus zenfone t001f</td>\n",
              "      <td>[aplikasi, responding, hp, asus, zenfone, t001f]</td>\n",
              "      <td>neg</td>\n",
              "    </tr>\n",
              "    <tr>\n",
              "      <th>4</th>\n",
              "      <td>komentar</td>\n",
              "      <td>[komentar]</td>\n",
              "      <td>pos</td>\n",
              "    </tr>\n",
              "  </tbody>\n",
              "</table>\n",
              "</div>"
            ],
            "text/plain": [
              "                                        cleaned_text  \\\n",
              "0  halo blibli saran gratis ongkirnya minimum 200...   \n",
              "1                              far good respon cepat   \n",
              "2                                              thank   \n",
              "3          aplikasi responding hp asus zenfone t001f   \n",
              "4                                           komentar   \n",
              "\n",
              "                                          Token Kata label  \n",
              "0  [halo, blibli, saran, gratis, ongkirnya, minim...   pos  \n",
              "1                         [far, good, respon, cepat]   pos  \n",
              "2                                            [thank]   neg  \n",
              "3   [aplikasi, responding, hp, asus, zenfone, t001f]   neg  \n",
              "4                                         [komentar]   pos  "
            ]
          },
          "execution_count": 51,
          "metadata": {},
          "output_type": "execute_result"
        }
      ],
      "source": [
        "train_data[['cleaned_text', 'Token Kata', 'label']].head()"
      ]
    },
    {
      "cell_type": "code",
      "execution_count": 52,
      "metadata": {
        "colab": {
          "base_uri": "https://localhost:8080/",
          "height": 206
        },
        "id": "ATR_JbMPRGV3",
        "outputId": "63d398cf-c129-494f-d2db-759ca7a2dcf7"
      },
      "outputs": [
        {
          "data": {
            "text/html": [
              "<div>\n",
              "<style scoped>\n",
              "    .dataframe tbody tr th:only-of-type {\n",
              "        vertical-align: middle;\n",
              "    }\n",
              "\n",
              "    .dataframe tbody tr th {\n",
              "        vertical-align: top;\n",
              "    }\n",
              "\n",
              "    .dataframe thead th {\n",
              "        text-align: right;\n",
              "    }\n",
              "</style>\n",
              "<table border=\"1\" class=\"dataframe\">\n",
              "  <thead>\n",
              "    <tr style=\"text-align: right;\">\n",
              "      <th></th>\n",
              "      <th>cleaned_text</th>\n",
              "      <th>Token Kata</th>\n",
              "      <th>label</th>\n",
              "    </tr>\n",
              "  </thead>\n",
              "  <tbody>\n",
              "    <tr>\n",
              "      <th>0</th>\n",
              "      <td>bagus</td>\n",
              "      <td>[bagus]</td>\n",
              "      <td>pos</td>\n",
              "    </tr>\n",
              "    <tr>\n",
              "      <th>1</th>\n",
              "      <td>pengiriman gratis produk bervariasi</td>\n",
              "      <td>[pengiriman, gratis, produk, bervariasi]</td>\n",
              "      <td>pos</td>\n",
              "    </tr>\n",
              "    <tr>\n",
              "      <th>2</th>\n",
              "      <td>praktis mudah aplikasinya</td>\n",
              "      <td>[praktis, mudah, aplikasinya]</td>\n",
              "      <td>pos</td>\n",
              "    </tr>\n",
              "    <tr>\n",
              "      <th>3</th>\n",
              "      <td>comment</td>\n",
              "      <td>[comment]</td>\n",
              "      <td>neg</td>\n",
              "    </tr>\n",
              "    <tr>\n",
              "      <th>4</th>\n",
              "      <td>aplikasi belanja online terbaik indonesia</td>\n",
              "      <td>[aplikasi, belanja, online, terbaik, indonesia]</td>\n",
              "      <td>pos</td>\n",
              "    </tr>\n",
              "  </tbody>\n",
              "</table>\n",
              "</div>"
            ],
            "text/plain": [
              "                                cleaned_text  \\\n",
              "0                                      bagus   \n",
              "1        pengiriman gratis produk bervariasi   \n",
              "2                  praktis mudah aplikasinya   \n",
              "3                                    comment   \n",
              "4  aplikasi belanja online terbaik indonesia   \n",
              "\n",
              "                                        Token Kata label  \n",
              "0                                          [bagus]   pos  \n",
              "1         [pengiriman, gratis, produk, bervariasi]   pos  \n",
              "2                    [praktis, mudah, aplikasinya]   pos  \n",
              "3                                        [comment]   neg  \n",
              "4  [aplikasi, belanja, online, terbaik, indonesia]   pos  "
            ]
          },
          "execution_count": 52,
          "metadata": {},
          "output_type": "execute_result"
        }
      ],
      "source": [
        "valid_data[['cleaned_text', 'Token Kata', 'label']].head()"
      ]
    },
    {
      "cell_type": "markdown",
      "metadata": {
        "id": "Qf-63yXyW3RA"
      },
      "source": [
        "### Stemming"
      ]
    },
    {
      "cell_type": "markdown",
      "metadata": {
        "id": "47bXz66JqnrT"
      },
      "source": [
        "Stemming adalah pemrosesan teks yang bertujuan untuk mengurangi kata-kata ke bentuk dasarnya atau \"akar kata\" (stem). Tujuan utamanya adalah untuk menghapus infleksi kata dan membawa kata-kata ke bentuk dasar yang memiliki makna dasar yang sama. Ini membantu dalam mengekstrak fitur-fitur utama dari teks sehingga dapat lebih mudah dianalisis atau diproses. Pada projek ini akan dilakukan stemming untuk kata dalam bahasa inggris dan bahasa indonesia"
      ]
    },
    {
      "cell_type": "code",
      "execution_count": 53,
      "metadata": {
        "colab": {
          "base_uri": "https://localhost:8080/"
        },
        "id": "XBdGCsNSarR5",
        "outputId": "92f1b1db-30f2-41b2-deac-4c9f5e427978"
      },
      "outputs": [
        {
          "name": "stderr",
          "output_type": "stream",
          "text": [
            "[nltk_data] Downloading package punkt to\n",
            "[nltk_data]     C:\\Users\\muham\\AppData\\Roaming\\nltk_data...\n",
            "[nltk_data]   Package punkt is already up-to-date!\n"
          ]
        }
      ],
      "source": [
        "#Stemming untuk Bahasa Inggris\n",
        "import pandas as pd\n",
        "import nltk\n",
        "from nltk.stem import PorterStemmer\n",
        "\n",
        "# Download data untuk tokenisasi (punkt) dan stemming (porter)\n",
        "nltk.download('punkt')\n",
        "\n",
        "# Proses stemming untuk setiap token dalam kolom 'text'\n",
        "stemmer = PorterStemmer()\n",
        "train_data['stemmed_text'] = train_data['Token Kata'].apply(lambda tokens: [stemmer.stem(word) for word in tokens])\n",
        "valid_data['stemmed_text'] = valid_data['Token Kata'].apply(lambda tokens: [stemmer.stem(word) for word in tokens])"
      ]
    },
    {
      "cell_type": "code",
      "execution_count": 54,
      "metadata": {
        "colab": {
          "base_uri": "https://localhost:8080/",
          "height": 206
        },
        "id": "wY8DtUBqa7f2",
        "outputId": "06e50e1f-aab5-4372-b568-d23f4b1b5172"
      },
      "outputs": [
        {
          "data": {
            "text/html": [
              "<div>\n",
              "<style scoped>\n",
              "    .dataframe tbody tr th:only-of-type {\n",
              "        vertical-align: middle;\n",
              "    }\n",
              "\n",
              "    .dataframe tbody tr th {\n",
              "        vertical-align: top;\n",
              "    }\n",
              "\n",
              "    .dataframe thead th {\n",
              "        text-align: right;\n",
              "    }\n",
              "</style>\n",
              "<table border=\"1\" class=\"dataframe\">\n",
              "  <thead>\n",
              "    <tr style=\"text-align: right;\">\n",
              "      <th></th>\n",
              "      <th>cleaned_text</th>\n",
              "      <th>Token Kata</th>\n",
              "      <th>stemmed_text</th>\n",
              "      <th>label</th>\n",
              "    </tr>\n",
              "  </thead>\n",
              "  <tbody>\n",
              "    <tr>\n",
              "      <th>0</th>\n",
              "      <td>halo blibli saran gratis ongkirnya minimum 200...</td>\n",
              "      <td>[halo, blibli, saran, gratis, ongkirnya, minim...</td>\n",
              "      <td>[halo, blibli, saran, grati, ongkirnya, minimu...</td>\n",
              "      <td>pos</td>\n",
              "    </tr>\n",
              "    <tr>\n",
              "      <th>1</th>\n",
              "      <td>far good respon cepat</td>\n",
              "      <td>[far, good, respon, cepat]</td>\n",
              "      <td>[far, good, respon, cepat]</td>\n",
              "      <td>pos</td>\n",
              "    </tr>\n",
              "    <tr>\n",
              "      <th>2</th>\n",
              "      <td>thank</td>\n",
              "      <td>[thank]</td>\n",
              "      <td>[thank]</td>\n",
              "      <td>neg</td>\n",
              "    </tr>\n",
              "    <tr>\n",
              "      <th>3</th>\n",
              "      <td>aplikasi responding hp asus zenfone t001f</td>\n",
              "      <td>[aplikasi, responding, hp, asus, zenfone, t001f]</td>\n",
              "      <td>[aplikasi, respond, hp, asu, zenfon, t001f]</td>\n",
              "      <td>neg</td>\n",
              "    </tr>\n",
              "    <tr>\n",
              "      <th>4</th>\n",
              "      <td>komentar</td>\n",
              "      <td>[komentar]</td>\n",
              "      <td>[komentar]</td>\n",
              "      <td>pos</td>\n",
              "    </tr>\n",
              "  </tbody>\n",
              "</table>\n",
              "</div>"
            ],
            "text/plain": [
              "                                        cleaned_text  \\\n",
              "0  halo blibli saran gratis ongkirnya minimum 200...   \n",
              "1                              far good respon cepat   \n",
              "2                                              thank   \n",
              "3          aplikasi responding hp asus zenfone t001f   \n",
              "4                                           komentar   \n",
              "\n",
              "                                          Token Kata  \\\n",
              "0  [halo, blibli, saran, gratis, ongkirnya, minim...   \n",
              "1                         [far, good, respon, cepat]   \n",
              "2                                            [thank]   \n",
              "3   [aplikasi, responding, hp, asus, zenfone, t001f]   \n",
              "4                                         [komentar]   \n",
              "\n",
              "                                        stemmed_text label  \n",
              "0  [halo, blibli, saran, grati, ongkirnya, minimu...   pos  \n",
              "1                         [far, good, respon, cepat]   pos  \n",
              "2                                            [thank]   neg  \n",
              "3        [aplikasi, respond, hp, asu, zenfon, t001f]   neg  \n",
              "4                                         [komentar]   pos  "
            ]
          },
          "execution_count": 54,
          "metadata": {},
          "output_type": "execute_result"
        }
      ],
      "source": [
        "train_data[['cleaned_text', 'Token Kata', 'stemmed_text', 'label']].head()"
      ]
    },
    {
      "cell_type": "code",
      "execution_count": 55,
      "metadata": {
        "colab": {
          "base_uri": "https://localhost:8080/",
          "height": 206
        },
        "id": "_5gwdyV2mEEp",
        "outputId": "4a1647c7-fdd5-4bbc-b59d-fc3a0ec0fb50"
      },
      "outputs": [
        {
          "data": {
            "text/html": [
              "<div>\n",
              "<style scoped>\n",
              "    .dataframe tbody tr th:only-of-type {\n",
              "        vertical-align: middle;\n",
              "    }\n",
              "\n",
              "    .dataframe tbody tr th {\n",
              "        vertical-align: top;\n",
              "    }\n",
              "\n",
              "    .dataframe thead th {\n",
              "        text-align: right;\n",
              "    }\n",
              "</style>\n",
              "<table border=\"1\" class=\"dataframe\">\n",
              "  <thead>\n",
              "    <tr style=\"text-align: right;\">\n",
              "      <th></th>\n",
              "      <th>cleaned_text</th>\n",
              "      <th>Token Kata</th>\n",
              "      <th>stemmed_text</th>\n",
              "      <th>label</th>\n",
              "    </tr>\n",
              "  </thead>\n",
              "  <tbody>\n",
              "    <tr>\n",
              "      <th>0</th>\n",
              "      <td>bagus</td>\n",
              "      <td>[bagus]</td>\n",
              "      <td>[bagu]</td>\n",
              "      <td>pos</td>\n",
              "    </tr>\n",
              "    <tr>\n",
              "      <th>1</th>\n",
              "      <td>pengiriman gratis produk bervariasi</td>\n",
              "      <td>[pengiriman, gratis, produk, bervariasi]</td>\n",
              "      <td>[pengiriman, grati, produk, bervariasi]</td>\n",
              "      <td>pos</td>\n",
              "    </tr>\n",
              "    <tr>\n",
              "      <th>2</th>\n",
              "      <td>praktis mudah aplikasinya</td>\n",
              "      <td>[praktis, mudah, aplikasinya]</td>\n",
              "      <td>[prakti, mudah, aplikasinya]</td>\n",
              "      <td>pos</td>\n",
              "    </tr>\n",
              "    <tr>\n",
              "      <th>3</th>\n",
              "      <td>comment</td>\n",
              "      <td>[comment]</td>\n",
              "      <td>[comment]</td>\n",
              "      <td>neg</td>\n",
              "    </tr>\n",
              "    <tr>\n",
              "      <th>4</th>\n",
              "      <td>aplikasi belanja online terbaik indonesia</td>\n",
              "      <td>[aplikasi, belanja, online, terbaik, indonesia]</td>\n",
              "      <td>[aplikasi, belanja, onlin, terbaik, indonesia]</td>\n",
              "      <td>pos</td>\n",
              "    </tr>\n",
              "  </tbody>\n",
              "</table>\n",
              "</div>"
            ],
            "text/plain": [
              "                                cleaned_text  \\\n",
              "0                                      bagus   \n",
              "1        pengiriman gratis produk bervariasi   \n",
              "2                  praktis mudah aplikasinya   \n",
              "3                                    comment   \n",
              "4  aplikasi belanja online terbaik indonesia   \n",
              "\n",
              "                                        Token Kata  \\\n",
              "0                                          [bagus]   \n",
              "1         [pengiriman, gratis, produk, bervariasi]   \n",
              "2                    [praktis, mudah, aplikasinya]   \n",
              "3                                        [comment]   \n",
              "4  [aplikasi, belanja, online, terbaik, indonesia]   \n",
              "\n",
              "                                     stemmed_text label  \n",
              "0                                          [bagu]   pos  \n",
              "1         [pengiriman, grati, produk, bervariasi]   pos  \n",
              "2                    [prakti, mudah, aplikasinya]   pos  \n",
              "3                                       [comment]   neg  \n",
              "4  [aplikasi, belanja, onlin, terbaik, indonesia]   pos  "
            ]
          },
          "execution_count": 55,
          "metadata": {},
          "output_type": "execute_result"
        }
      ],
      "source": [
        "valid_data[['cleaned_text', 'Token Kata', 'stemmed_text', 'label']].head()"
      ]
    },
    {
      "cell_type": "code",
      "execution_count": 56,
      "metadata": {
        "id": "XzbGERafrJEl"
      },
      "outputs": [],
      "source": [
        "#Stemming untuk Bahasa Indonesia\n",
        "from Sastrawi.Stemmer.StemmerFactory import StemmerFactory\n",
        "\n",
        "# Inisialisasi Stemmer untuk bahasa Indonesia\n",
        "stemmer_factory = StemmerFactory()\n",
        "stemmer = stemmer_factory.create_stemmer()\n",
        "\n",
        "# Proses stemming untuk setiap token dalam kolom 'text'\n",
        "train_data['stemmed_text'] = train_data['stemmed_text'].apply(lambda tokens: [stemmer.stem(word) for word in tokens])\n",
        "valid_data['stemmed_text'] = valid_data['stemmed_text'].apply(lambda tokens: [stemmer.stem(word) for word in tokens])"
      ]
    },
    {
      "cell_type": "markdown",
      "metadata": {
        "id": "MujYuZD2u0M9"
      },
      "source": [
        "Setelah dilakukan proses stemming maka data akan dilakukan proses konversi dari tokenisasi menjadi kalimat kembali"
      ]
    },
    {
      "cell_type": "code",
      "execution_count": 57,
      "metadata": {
        "id": "QfsLWo8rfCOX"
      },
      "outputs": [],
      "source": [
        "#konversi kembali ke kalimat\n",
        "train_data['reconstructed_text'] = train_data['stemmed_text'].apply(lambda tokens: ' '.join(tokens))\n",
        "valid_data['reconstructed_text'] = valid_data['stemmed_text'].apply(lambda tokens: ' '.join(tokens))"
      ]
    },
    {
      "cell_type": "code",
      "execution_count": 58,
      "metadata": {
        "colab": {
          "base_uri": "https://localhost:8080/",
          "height": 424
        },
        "id": "F-DAt5MbfImG",
        "outputId": "5bef1185-dabc-43e3-8d11-70b6c3499a42"
      },
      "outputs": [
        {
          "data": {
            "text/html": [
              "<div>\n",
              "<style scoped>\n",
              "    .dataframe tbody tr th:only-of-type {\n",
              "        vertical-align: middle;\n",
              "    }\n",
              "\n",
              "    .dataframe tbody tr th {\n",
              "        vertical-align: top;\n",
              "    }\n",
              "\n",
              "    .dataframe thead th {\n",
              "        text-align: right;\n",
              "    }\n",
              "</style>\n",
              "<table border=\"1\" class=\"dataframe\">\n",
              "  <thead>\n",
              "    <tr style=\"text-align: right;\">\n",
              "      <th></th>\n",
              "      <th>reconstructed_text</th>\n",
              "      <th>label</th>\n",
              "    </tr>\n",
              "  </thead>\n",
              "  <tbody>\n",
              "    <tr>\n",
              "      <th>0</th>\n",
              "      <td>halo blibli saran grati ongkirnya minimum 200r...</td>\n",
              "      <td>pos</td>\n",
              "    </tr>\n",
              "    <tr>\n",
              "      <th>1</th>\n",
              "      <td>far good respon cepat</td>\n",
              "      <td>pos</td>\n",
              "    </tr>\n",
              "    <tr>\n",
              "      <th>2</th>\n",
              "      <td>thank</td>\n",
              "      <td>neg</td>\n",
              "    </tr>\n",
              "    <tr>\n",
              "      <th>3</th>\n",
              "      <td>aplikasi respond hp asu zenfon t001f</td>\n",
              "      <td>neg</td>\n",
              "    </tr>\n",
              "    <tr>\n",
              "      <th>4</th>\n",
              "      <td>komentar</td>\n",
              "      <td>pos</td>\n",
              "    </tr>\n",
              "  </tbody>\n",
              "</table>\n",
              "</div>"
            ],
            "text/plain": [
              "                                  reconstructed_text label\n",
              "0  halo blibli saran grati ongkirnya minimum 200r...   pos\n",
              "1                              far good respon cepat   pos\n",
              "2                                              thank   neg\n",
              "3               aplikasi respond hp asu zenfon t001f   neg\n",
              "4                                           komentar   pos"
            ]
          },
          "execution_count": 58,
          "metadata": {},
          "output_type": "execute_result"
        }
      ],
      "source": [
        "train_data = train_data[['reconstructed_text', 'label']].copy()\n",
        "train_data.head()"
      ]
    },
    {
      "cell_type": "code",
      "execution_count": 59,
      "metadata": {
        "colab": {
          "base_uri": "https://localhost:8080/",
          "height": 424
        },
        "id": "5WEM0AeVmrrD",
        "outputId": "598cf5af-983a-4d47-8a05-485be5654704"
      },
      "outputs": [
        {
          "data": {
            "text/html": [
              "<div>\n",
              "<style scoped>\n",
              "    .dataframe tbody tr th:only-of-type {\n",
              "        vertical-align: middle;\n",
              "    }\n",
              "\n",
              "    .dataframe tbody tr th {\n",
              "        vertical-align: top;\n",
              "    }\n",
              "\n",
              "    .dataframe thead th {\n",
              "        text-align: right;\n",
              "    }\n",
              "</style>\n",
              "<table border=\"1\" class=\"dataframe\">\n",
              "  <thead>\n",
              "    <tr style=\"text-align: right;\">\n",
              "      <th></th>\n",
              "      <th>reconstructed_text</th>\n",
              "      <th>label</th>\n",
              "    </tr>\n",
              "  </thead>\n",
              "  <tbody>\n",
              "    <tr>\n",
              "      <th>0</th>\n",
              "      <td>bagu</td>\n",
              "      <td>pos</td>\n",
              "    </tr>\n",
              "    <tr>\n",
              "      <th>1</th>\n",
              "      <td>kirim grati produk variasi</td>\n",
              "      <td>pos</td>\n",
              "    </tr>\n",
              "    <tr>\n",
              "      <th>2</th>\n",
              "      <td>prakti mudah aplikasi</td>\n",
              "      <td>pos</td>\n",
              "    </tr>\n",
              "    <tr>\n",
              "      <th>3</th>\n",
              "      <td>comment</td>\n",
              "      <td>neg</td>\n",
              "    </tr>\n",
              "    <tr>\n",
              "      <th>4</th>\n",
              "      <td>aplikasi belanja onlin baik indonesia</td>\n",
              "      <td>pos</td>\n",
              "    </tr>\n",
              "  </tbody>\n",
              "</table>\n",
              "</div>"
            ],
            "text/plain": [
              "                      reconstructed_text label\n",
              "0                                   bagu   pos\n",
              "1             kirim grati produk variasi   pos\n",
              "2                  prakti mudah aplikasi   pos\n",
              "3                                comment   neg\n",
              "4  aplikasi belanja onlin baik indonesia   pos"
            ]
          },
          "execution_count": 59,
          "metadata": {},
          "output_type": "execute_result"
        }
      ],
      "source": [
        "valid_data = valid_data[['reconstructed_text', 'label']].copy()\n",
        "valid_data.head()"
      ]
    },
    {
      "cell_type": "markdown",
      "metadata": {
        "id": "y3q8n4mivnLN"
      },
      "source": [
        "### **Label Encoding**"
      ]
    },
    {
      "cell_type": "markdown",
      "metadata": {
        "id": "FK2tLVPnvp5_"
      },
      "source": [
        "Label encoding adalah proses mengonversi kategori atau label dalam variabel target menjadi nilai numerik. Dalam konteks ini, setiap kategori diberi label unik dalam bentuk nilai numerik. Tujuannya adalah untuk memungkinkan model pembelajaran mesin atau algoritma dapat memahami dan memproses variabel target yang awalnya berbentuk kategori. Kelas Sentimen Positif (pos) akan diwakili oleh nilai numerik 1 dan Kelas Sentimen Negatif (neg) akan diwakili oleh nilai numerik 0"
      ]
    },
    {
      "cell_type": "code",
      "execution_count": 60,
      "metadata": {
        "id": "MqYrjVpYnnNv"
      },
      "outputs": [],
      "source": [
        "train_data['label'] = train_data['label'].replace({'pos': 1, 'neg': 0})\n",
        "valid_data['label'] = valid_data['label'].replace({'pos': 1, 'neg': 0})"
      ]
    },
    {
      "cell_type": "code",
      "execution_count": 61,
      "metadata": {
        "colab": {
          "base_uri": "https://localhost:8080/",
          "height": 270
        },
        "id": "zAa2OzLb1vQb",
        "outputId": "7ee47eb1-0565-4a8b-f6b6-f4a770fec4ed"
      },
      "outputs": [
        {
          "data": {
            "image/png": "[encoded data removed]",
            "text/plain": [
              "<Figure size 864x432 with 2 Axes>"
            ]
          },
          "metadata": {
            "needs_background": "light"
          },
          "output_type": "display_data"
        }
      ],
      "source": [
        "from wordcloud import WordCloud\n",
        "# Membuat WordCloud untuk sentimen negatif\n",
        "negatif_text = ' '.join(train_data[train_data['label'] == 0]['reconstructed_text'])\n",
        "wordcloud_negatif = WordCloud(width=800, height=400, background_color='white').generate(negatif_text)\n",
        "\n",
        "# Membuat WordCloud untuk sentimen positif\n",
        "positif_text = ' '.join(train_data[train_data['label'] == 1]['reconstructed_text'])\n",
        "wordcloud_positif = WordCloud(width=800, height=400, background_color='white').generate(positif_text)\n",
        "\n",
        "# Menampilkan WordCloud untuk sentimen negatif\n",
        "plt.figure(figsize=(12, 6))\n",
        "plt.subplot(1, 2, 1)\n",
        "plt.imshow(wordcloud_negatif, interpolation='bilinear')\n",
        "plt.axis('off')\n",
        "plt.title('WordCloud - Sentimen Negatif')\n",
        "\n",
        "# Menampilkan WordCloud untuk sentimen positif\n",
        "plt.subplot(1, 2, 2)\n",
        "plt.imshow(wordcloud_positif, interpolation='bilinear')\n",
        "plt.axis('off')\n",
        "plt.title('WordCloud - Sentimen Positif')\n",
        "\n",
        "plt.show()"
      ]
    },
    {
      "cell_type": "markdown",
      "metadata": {
        "id": "Goo6HoMIHrXp"
      },
      "source": [
        "## **Splitting Data**"
      ]
    },
    {
      "cell_type": "code",
      "execution_count": 75,
      "metadata": {
        "id": "Qhcfb3fmRweH"
      },
      "outputs": [
        {
          "name": "stdout",
          "output_type": "stream",
          "text": [
            "Data Training: 69.22\n",
            "Data Validation: 30.78\n"
          ]
        }
      ],
      "source": [
        "X_train = train_data['reconstructed_text']\n",
        "X_test = valid_data['reconstructed_text']\n",
        "y_train = train_data['label']\n",
        "y_test = valid_data['label']\n",
        "\n",
        "persentase_train = (len(X_train)/(len(X_train)+len(X_test)))*100\n",
        "persentase_validation = (len(X_test)/(len(X_train)+len(X_test)))*100\n",
        "print(\"Data Training: {:.2f}\".format(persentase_train))\n",
        "print(\"Data Validation: {:.2f}\".format(persentase_validation))"
      ]
    },
    {
      "cell_type": "code",
      "execution_count": 64,
      "metadata": {},
      "outputs": [
        {
          "data": {
            "image/png": "[encoded data removed]",
            "text/plain": [
              "<Figure size 1080x576 with 1 Axes>"
            ]
          },
          "metadata": {},
          "output_type": "display_data"
        }
      ],
      "source": [
        "# Data\n",
        "sizes = [len(X_train), len(X_test)]\n",
        "labels = ['Training Data', 'Testing Data']\n",
        "colors = [\"b\", \"#72BCD4\"]\n",
        "explode = (0.1, 0)  # Explode the 1st slice (Training Data)\n",
        "\n",
        "# Pie plot\n",
        "plt.pie(sizes, labels=labels, colors=colors, autopct='%1.1f%%', startangle=140)\n",
        "\n",
        "plt.axis('equal')  # Equal aspect ratio ensures that pie is drawn as a circle.\n",
        "plt.show()\n"
      ]
    },
    {
      "cell_type": "markdown",
      "metadata": {
        "id": "zilpX5tjrDVP"
      },
      "source": [
        "## **TF-IDF**"
      ]
    },
    {
      "cell_type": "markdown",
      "metadata": {
        "id": "dfgYOCKOwf_q"
      },
      "source": [
        "TF-IDF adalah singkatan dari \"Term Frequency-Inverse Document Frequency.\" Ini adalah metode statistik yang digunakan dalam pemrosesan teks dan temu balik informasi untuk menilai seberapa penting sebuah kata (term) dalam suatu dokumen dalam kumpulan dokumen (korpus). Metode ini memberikan skor numerik kepada setiap kata berdasarkan seberapa sering kata tersebut muncul dalam dokumen tertentu dan seberapa unik kata tersebut dalam seluruh korpus."
      ]
    },
    {
      "cell_type": "code",
      "execution_count": 65,
      "metadata": {
        "id": "5V-EytWorKMG"
      },
      "outputs": [],
      "source": [
        "from sklearn.feature_extraction.text import TfidfVectorizer"
      ]
    },
    {
      "cell_type": "code",
      "execution_count": 66,
      "metadata": {
        "id": "awcg1uiyrVRG"
      },
      "outputs": [],
      "source": [
        "vectorizer = TfidfVectorizer()\n",
        "X_train_tfidf = vectorizer.fit_transform(X_train)\n",
        "X_test_tfidf = vectorizer.transform(X_test)"
      ]
    },
    {
      "cell_type": "code",
      "execution_count": 67,
      "metadata": {},
      "outputs": [
        {
          "data": {
            "text/plain": [
              "['TF-IDF.joblib']"
            ]
          },
          "execution_count": 67,
          "metadata": {},
          "output_type": "execute_result"
        }
      ],
      "source": [
        "#Save model TF-IDF\n",
        "joblib.dump(vectorizer, 'TF-IDF.joblib')"
      ]
    },
    {
      "cell_type": "markdown",
      "metadata": {},
      "source": [
        "Model Vectorizer ini yang akan dipakai pada saat pemrosesan API"
      ]
    },
    {
      "cell_type": "markdown",
      "metadata": {
        "id": "m2ioM6cArtwa"
      },
      "source": [
        "## **SMOTE**"
      ]
    },
    {
      "cell_type": "markdown",
      "metadata": {
        "id": "YZh1641izwP8"
      },
      "source": [
        "SMOTE adalah singkatan dari \"Synthetic Minority Over-sampling Technique.\" Ini adalah metode yang digunakan dalam masalah ketidakseimbangan kelas (class imbalance) pada pembelajaran mesin, khususnya pada tugas klasifikasi. Dikembangkan untuk menangani situasi di mana kelas minoritas (kelas yang memiliki sedikit contoh) kurang diwakili dalam data pelatihan, SMOTE berusaha untuk meningkatkan jumlah sampel dalam kelas minoritas dengan cara menciptakan sampel-sampel sintetis yang mirip dengan sampel-sampel yang sudah ada."
      ]
    },
    {
      "cell_type": "code",
      "execution_count": 68,
      "metadata": {
        "colab": {
          "base_uri": "https://localhost:8080/",
          "height": 564
        },
        "id": "yBbf9TQRwxzq",
        "outputId": "3f4cc7ad-8571-4eca-cbd7-a2aa633e628d"
      },
      "outputs": [
        {
          "data": {
            "image/png": "[encoded data removed]",
            "text/plain": [
              "<Figure size 720x432 with 1 Axes>"
            ]
          },
          "metadata": {
            "needs_background": "light"
          },
          "output_type": "display_data"
        }
      ],
      "source": [
        "y_train_mapped = y_train.map({0: 'Negatif', 1: 'Positif'})\n",
        "label = y_train_mapped.value_counts()\n",
        "plt.figure(figsize=(10, 6))\n",
        "colors = [\"b\", \"#72BCD4\"]\n",
        "plt.bar(label.index, label.values, color = colors)\n",
        "plt.title('Visualisasi Jumlah Sentimen')\n",
        "plt.xlabel('Sentimen')\n",
        "plt.ylabel('Jumlah')\n",
        "plt.show()"
      ]
    },
    {
      "cell_type": "markdown",
      "metadata": {
        "id": "xQgJskZAzx5l"
      },
      "source": [
        "Berdasarkan hasil visualisasi jumlah persebaran kelas dari sentimen, didapatkan bahwa kelas sentimen positif jauh lebih banyak dibandingkan oleh sentimen negatif (imbalanced data) oleh karena itu perlu dilakukan proses penyeimbangan dengan menggunakan SMOTE guna kelas dari data menjadi seimbang sehingga model tidak bias prediksi."
      ]
    },
    {
      "cell_type": "code",
      "execution_count": 69,
      "metadata": {
        "id": "8Fg1LAYrr0bg"
      },
      "outputs": [],
      "source": [
        "smote = SMOTE(sampling_strategy='auto', random_state=42)\n",
        "X_resampled, y_resampled = smote.fit_resample(X_train_tfidf, y_train)"
      ]
    },
    {
      "cell_type": "code",
      "execution_count": 70,
      "metadata": {
        "colab": {
          "base_uri": "https://localhost:8080/",
          "height": 564
        },
        "id": "dwfRcoDdsh_Y",
        "outputId": "a2840827-7b6e-48c3-80ad-56672e32cd20"
      },
      "outputs": [
        {
          "data": {
            "image/png": "[encoded data removed]",
            "text/plain": [
              "<Figure size 720x432 with 1 Axes>"
            ]
          },
          "metadata": {
            "needs_background": "light"
          },
          "output_type": "display_data"
        }
      ],
      "source": [
        "y_resampled_mapped_ = y_resampled.map({0: 'Negatif', 1: 'Positif'})\n",
        "label_smote = y_resampled_mapped_.value_counts()\n",
        "plt.figure(figsize=(10, 6))\n",
        "colors = [\"b\", \"b\"]\n",
        "plt.bar(label_smote.index, label_smote.values, color = colors)\n",
        "plt.title('Visualisasi Jumlah Sentimen (SMOTE)')\n",
        "plt.xlabel('Sentimen')\n",
        "plt.ylabel('Jumlah')\n",
        "plt.show()"
      ]
    },
    {
      "cell_type": "markdown",
      "metadata": {
        "id": "eTPOJg070phK"
      },
      "source": [
        "Dari hasil SMOTE, maka kelas data menjadi seimbang sehingga dapat meningkatkan kinerja model pada kelas minoritas. Ini membantu mencegah model mengabaikan kelas minoritas dan memastikan bahwa model dapat belajar dari kedua kelas dengan seimbang serta menghindari terjadinya bias prediksi akibat data imbalance."
      ]
    },
    {
      "cell_type": "markdown",
      "metadata": {
        "id": "rmvp948zsCTZ"
      },
      "source": [
        "## **Modelling**"
      ]
    },
    {
      "cell_type": "markdown",
      "metadata": {},
      "source": [
        "Regresi logistik adalah metode statistik yang digunakan untuk memodelkan hubungan antara satu atau lebih variabel independen (prediktor) dengan variabel dependen biner (hasil yang dapat berupa dua kategori: positif atau negatif). Tujuan regresi logistik adalah memprediksi probabilitas kejadian suatu peristiwa pada kelompok tertentu berdasarkan nilai-nilai variabel independen."
      ]
    },
    {
      "cell_type": "markdown",
      "metadata": {},
      "source": [
        "Dalam regresi logistik, fungsi logistik (atau sigmoid) digunakan untuk mengubah kombinasi linear dari variabel independen menjadi nilai yang berada dalam rentang antara 0 dan 1. Fungsi logistik memiliki bentuk kurva S, yang memungkinkan kita mengartikan output sebagai probabilitas kejadian sukses."
      ]
    },
    {
      "cell_type": "code",
      "execution_count": 71,
      "metadata": {
        "id": "W_ZfU95cr-HM"
      },
      "outputs": [],
      "source": [
        "from sklearn.linear_model import LogisticRegression\n",
        "from sklearn.metrics import accuracy_score, classification_report"
      ]
    },
    {
      "cell_type": "code",
      "execution_count": 72,
      "metadata": {
        "colab": {
          "base_uri": "https://localhost:8080/"
        },
        "id": "3Dq7kdmVsFQ5",
        "outputId": "d64135be-ea15-48c8-99cb-19433bb18a86"
      },
      "outputs": [
        {
          "name": "stdout",
          "output_type": "stream",
          "text": [
            "Accuracy: 0.89\n",
            "Classification Report:\n",
            "               precision    recall  f1-score   support\n",
            "\n",
            "           0       0.68      0.80      0.73       471\n",
            "           1       0.95      0.91      0.93      1941\n",
            "\n",
            "    accuracy                           0.89      2412\n",
            "   macro avg       0.81      0.85      0.83      2412\n",
            "weighted avg       0.90      0.89      0.89      2412\n",
            "\n"
          ]
        }
      ],
      "source": [
        "model = LogisticRegression(random_state=42)\n",
        "model.fit(X_resampled, y_resampled)\n",
        "\n",
        "# Prediksi\n",
        "y_pred = model.predict(X_test_tfidf)\n",
        "\n",
        "# Evaluasi\n",
        "accuracy = accuracy_score(y_test, y_pred)\n",
        "print(f'Accuracy: {accuracy:.2f}')\n",
        "\n",
        "classification_report_result = classification_report(y_test, y_pred)\n",
        "print('Classification Report:\\n', classification_report_result)"
      ]
    },
    {
      "cell_type": "code",
      "execution_count": 78,
      "metadata": {},
      "outputs": [
        {
          "data": {
            "image/png": "[encoded data removed]",
            "text/plain": [
              "<Figure size 576x432 with 2 Axes>"
            ]
          },
          "metadata": {
            "needs_background": "light"
          },
          "output_type": "display_data"
        }
      ],
      "source": [
        "# confusion matrix\n",
        "from sklearn.metrics import confusion_matrix\n",
        "cm = confusion_matrix(y_test, y_pred)\n",
        "\n",
        "# Menampilkan confusion matrix menggunakan heatmap\n",
        "plt.figure(figsize=(8, 6))\n",
        "sns.heatmap(cm, annot=True, fmt='d', cmap='Blues', xticklabels=['Negatif', 'Positif'], yticklabels=['Negatif', 'Positif'])\n",
        "plt.title('Confusion Matrix')\n",
        "plt.xlabel('Predicted')\n",
        "plt.ylabel('Actual')\n",
        "plt.show()"
      ]
    },
    {
      "cell_type": "markdown",
      "metadata": {},
      "source": [
        "Berdasarkan hasil evaluasi model Logistic Regression untuk tugas klasifikasi teks sentimen positif dan negatif, dapat disimpulkan bahwa model ini memberikan kinerja yang umumnya baik. Dengan tingkat akurasi sebesar 89%, model dapat memprediksi sentimen dengan tepat pada sebagian besar kasus. Meskipun demikian, terdapat beberapa aspek yang perlu diperhatikan. Model cenderung lebih baik dalam mengenali sentimen positif, dengan presisi, recall, dan F1-score yang tinggi. Di sisi lain, untuk sentimen negatif, presisi relatif lebih rendah, menunjukkan kecenderungan untuk memberikan false positives. Oleh karena itu, ada potensi untuk meningkatkan kinerja model khususnya dalam mengidentifikasi sentimen negatif. "
      ]
    },
    {
      "cell_type": "code",
      "execution_count": 73,
      "metadata": {},
      "outputs": [
        {
          "data": {
            "text/plain": [
              "['logreg.joblib']"
            ]
          },
          "execution_count": 73,
          "metadata": {},
          "output_type": "execute_result"
        }
      ],
      "source": [
        "#Save Model Klasifikasi\n",
        "joblib.dump(model, 'logreg.joblib')"
      ]
    },
    {
      "cell_type": "markdown",
      "metadata": {},
      "source": [
        "Model akan ini yang akan digunakan untuk mengklasifikasi teks inputan pada API"
      ]
    }
  ],
  "metadata": {
    "colab": {
      "collapsed_sections": [
        "VWe6w57zWW5Z",
        "x29WukJhXNxi",
        "l3D3UkwBXl3D",
        "GfDlPYvZfbfq",
        "Aqd9n8FOZIUl",
        "6hX9PV5AZFwa",
        "5bDJlj8EpuX1",
        "YH5jbz8nqyXT",
        "qEKhVRhuq4_n",
        "Sl23g15EwJjO",
        "IErgmkdsb5M_",
        "Qf-63yXyW3RA",
        "zilpX5tjrDVP",
        "m2ioM6cArtwa",
        "rmvp948zsCTZ"
      ],
      "provenance": []
    },
    "kernelspec": {
      "display_name": "Python 3",
      "name": "python3"
    },
    "language_info": {
      "codemirror_mode": {
        "name": "ipython",
        "version": 3
      },
      "file_extension": ".py",
      "mimetype": "text/x-python",
      "name": "python",
      "nbconvert_exporter": "python",
      "pygments_lexer": "ipython3",
      "version": "3.10.5"
    }
  },
  "nbformat": 4,
  "nbformat_minor": 0
}
